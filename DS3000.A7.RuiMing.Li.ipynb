{
 "cells": [
  {
   "cell_type": "code",
   "execution_count": 5,
   "id": "1595e1e0",
   "metadata": {},
   "outputs": [],
   "source": [
    "# RuiMing Li \n",
    "# Assignment 7  "
   ]
  },
  {
   "cell_type": "code",
   "execution_count": 6,
   "id": "ab2ce7c7",
   "metadata": {},
   "outputs": [],
   "source": [
    "import pandas as pd\n",
    "from matplotlib import pyplot as plt \n"
   ]
  },
  {
   "cell_type": "code",
   "execution_count": 7,
   "id": "cc9c53e2",
   "metadata": {},
   "outputs": [
    {
     "data": {
      "text/html": [
       "<div>\n",
       "<style scoped>\n",
       "    .dataframe tbody tr th:only-of-type {\n",
       "        vertical-align: middle;\n",
       "    }\n",
       "\n",
       "    .dataframe tbody tr th {\n",
       "        vertical-align: top;\n",
       "    }\n",
       "\n",
       "    .dataframe thead th {\n",
       "        text-align: right;\n",
       "    }\n",
       "</style>\n",
       "<table border=\"1\" class=\"dataframe\">\n",
       "  <thead>\n",
       "    <tr style=\"text-align: right;\">\n",
       "      <th></th>\n",
       "      <th>Unnamed: 0</th>\n",
       "      <th>carat</th>\n",
       "      <th>cut</th>\n",
       "      <th>color</th>\n",
       "      <th>clarity</th>\n",
       "      <th>depth</th>\n",
       "      <th>table</th>\n",
       "      <th>price</th>\n",
       "      <th>x</th>\n",
       "      <th>y</th>\n",
       "      <th>z</th>\n",
       "    </tr>\n",
       "  </thead>\n",
       "  <tbody>\n",
       "    <tr>\n",
       "      <th>0</th>\n",
       "      <td>1</td>\n",
       "      <td>0.23</td>\n",
       "      <td>Ideal</td>\n",
       "      <td>E</td>\n",
       "      <td>SI2</td>\n",
       "      <td>61.5</td>\n",
       "      <td>55.0</td>\n",
       "      <td>326</td>\n",
       "      <td>3.95</td>\n",
       "      <td>3.98</td>\n",
       "      <td>2.43</td>\n",
       "    </tr>\n",
       "    <tr>\n",
       "      <th>1</th>\n",
       "      <td>2</td>\n",
       "      <td>0.21</td>\n",
       "      <td>Premium</td>\n",
       "      <td>E</td>\n",
       "      <td>SI1</td>\n",
       "      <td>59.8</td>\n",
       "      <td>61.0</td>\n",
       "      <td>326</td>\n",
       "      <td>3.89</td>\n",
       "      <td>3.84</td>\n",
       "      <td>2.31</td>\n",
       "    </tr>\n",
       "    <tr>\n",
       "      <th>2</th>\n",
       "      <td>3</td>\n",
       "      <td>0.23</td>\n",
       "      <td>Good</td>\n",
       "      <td>E</td>\n",
       "      <td>VS1</td>\n",
       "      <td>56.9</td>\n",
       "      <td>65.0</td>\n",
       "      <td>327</td>\n",
       "      <td>4.05</td>\n",
       "      <td>4.07</td>\n",
       "      <td>2.31</td>\n",
       "    </tr>\n",
       "    <tr>\n",
       "      <th>3</th>\n",
       "      <td>4</td>\n",
       "      <td>0.29</td>\n",
       "      <td>Premium</td>\n",
       "      <td>I</td>\n",
       "      <td>VS2</td>\n",
       "      <td>62.4</td>\n",
       "      <td>58.0</td>\n",
       "      <td>334</td>\n",
       "      <td>4.20</td>\n",
       "      <td>4.23</td>\n",
       "      <td>2.63</td>\n",
       "    </tr>\n",
       "    <tr>\n",
       "      <th>4</th>\n",
       "      <td>5</td>\n",
       "      <td>0.31</td>\n",
       "      <td>Good</td>\n",
       "      <td>J</td>\n",
       "      <td>SI2</td>\n",
       "      <td>63.3</td>\n",
       "      <td>58.0</td>\n",
       "      <td>335</td>\n",
       "      <td>4.34</td>\n",
       "      <td>4.35</td>\n",
       "      <td>2.75</td>\n",
       "    </tr>\n",
       "  </tbody>\n",
       "</table>\n",
       "</div>"
      ],
      "text/plain": [
       "   Unnamed: 0  carat      cut color clarity  depth  table  price     x     y  \\\n",
       "0           1   0.23    Ideal     E     SI2   61.5   55.0    326  3.95  3.98   \n",
       "1           2   0.21  Premium     E     SI1   59.8   61.0    326  3.89  3.84   \n",
       "2           3   0.23     Good     E     VS1   56.9   65.0    327  4.05  4.07   \n",
       "3           4   0.29  Premium     I     VS2   62.4   58.0    334  4.20  4.23   \n",
       "4           5   0.31     Good     J     SI2   63.3   58.0    335  4.34  4.35   \n",
       "\n",
       "      z  \n",
       "0  2.43  \n",
       "1  2.31  \n",
       "2  2.31  \n",
       "3  2.63  \n",
       "4  2.75  "
      ]
     },
     "execution_count": 7,
     "metadata": {},
     "output_type": "execute_result"
    }
   ],
   "source": [
    "# loading data from the diamonds.csv file \n",
    "diamonds_df = pd.read_csv(\"diamonds.csv\")\n",
    "diamonds_df.head()"
   ]
  },
  {
   "cell_type": "code",
   "execution_count": 8,
   "id": "61fe2716",
   "metadata": {},
   "outputs": [
    {
     "name": "stdout",
     "output_type": "stream",
     "text": [
      "0        61.5\n",
      "1        59.8\n",
      "2        56.9\n",
      "3        62.4\n",
      "4        63.3\n",
      "         ... \n",
      "53935    60.8\n",
      "53936    63.1\n",
      "53937    62.8\n",
      "53938    61.0\n",
      "53939    62.2\n",
      "Name: depth, Length: 53940, dtype: float64\n"
     ]
    }
   ],
   "source": [
    "# depth mean, median, max, min \n",
    "depth_column = diamonds_df[\"depth\"]\n",
    "print(depth_column)\n"
   ]
  },
  {
   "cell_type": "code",
   "execution_count": 9,
   "id": "56fdb5bd",
   "metadata": {},
   "outputs": [
    {
     "name": "stdout",
     "output_type": "stream",
     "text": [
      "count    53940.000000\n",
      "mean        61.749405\n",
      "std          1.432621\n",
      "min         43.000000\n",
      "25%         61.000000\n",
      "50%         61.800000\n",
      "75%         62.500000\n",
      "max         79.000000\n",
      "Name: depth, dtype: float64\n",
      "The median of the depth column is 61.8\n"
     ]
    }
   ],
   "source": [
    "# print(\"The mean of the depth column is\", depth_column.mean())\n",
    "# print(\"The max of the depth column is\", depth_column.max())\n",
    "# print(\"The min of the depth column is\", depth_column.min())\n",
    "print(depth_column.describe())\n",
    "print(\"The median of the depth column is\", depth_column.median())"
   ]
  },
  {
   "cell_type": "code",
   "execution_count": 10,
   "id": "63f32546",
   "metadata": {},
   "outputs": [],
   "source": [
    "# The mean and median depth of diamonds in this dataset is `61.75` and `61.8` respectively. \n",
    "# The mean and median are approximately the same, therefore when we visualize the distribution \n",
    "# we can expect a symmetric curve."
   ]
  },
  {
   "cell_type": "code",
   "execution_count": 11,
   "id": "1c24af24",
   "metadata": {},
   "outputs": [
    {
     "name": "stdout",
     "output_type": "stream",
     "text": [
      "0        55.0\n",
      "1        61.0\n",
      "2        65.0\n",
      "3        58.0\n",
      "4        58.0\n",
      "         ... \n",
      "53935    57.0\n",
      "53936    55.0\n",
      "53937    60.0\n",
      "53938    58.0\n",
      "53939    55.0\n",
      "Name: table, Length: 53940, dtype: float64\n",
      "The median of the table column is 57.0\n"
     ]
    }
   ],
   "source": [
    "table_column = diamonds_df[\"table\"]\n",
    "print(table_column)\n",
    "print(\"The median of the table column is\", table_column.median())"
   ]
  },
  {
   "cell_type": "code",
   "execution_count": 12,
   "id": "bd9e224b",
   "metadata": {},
   "outputs": [
    {
     "name": "stdout",
     "output_type": "stream",
     "text": [
      "count    53940.000000\n",
      "mean        57.457184\n",
      "std          2.234491\n",
      "min         43.000000\n",
      "25%         56.000000\n",
      "50%         57.000000\n",
      "75%         59.000000\n",
      "max         95.000000\n",
      "Name: table, dtype: float64\n"
     ]
    }
   ],
   "source": [
    "print(table_column.describe())"
   ]
  },
  {
   "cell_type": "code",
   "execution_count": 13,
   "id": "c8c6e2f2",
   "metadata": {},
   "outputs": [],
   "source": [
    "# The mean and median depth of diamonds in this dataset is `57.46` and `57.0` respectively. \n",
    "# The mean and median are approximately the same, therefore when we visualize the distribution \n",
    "# we can expect a symmetric curve. "
   ]
  },
  {
   "cell_type": "code",
   "execution_count": 14,
   "id": "1da79a20",
   "metadata": {},
   "outputs": [
    {
     "data": {
      "image/png": "[encoded data removed]",
      "text/plain": [
       "<Figure size 432x288 with 1 Axes>"
      ]
     },
     "metadata": {
      "needs_background": "light"
     },
     "output_type": "display_data"
    },
    {
     "name": "stdout",
     "output_type": "stream",
     "text": [
      "This is a bar chart that shows the frequency of diamonds grouped by cut. On the x-axis is the the five different types of cut, and on the y axis is the frequency each type of cut appeared in the dataset. Looking at the chart, ideal cut is the one that appeared the most frequently and fair cut is the one that appeared the lowest. \n"
     ]
    }
   ],
   "source": [
    "# (5 pts) Create a bar chart that shows the frequency of diamonds grouped by cut. Explain the chart.\n",
    "freq_diamonds = diamonds_df\n",
    "\n",
    "freq_diamonds = freq_diamonds[\"cut\"]\n",
    "freq_diamonds = freq_diamonds.value_counts()\n",
    "freq_diamonds.plot.bar(x='Cut', y='Frequency')\n",
    "plt.xlabel(\"Cut\")\n",
    "plt.ylabel(\"Frequency\")\n",
    "plt.title(\"Frequency of Diamonds By Cut\")\n",
    "plt.show()\n",
    "\n",
    "freq_diamonds.head()\n",
    "print(\"This is a bar chart that shows the frequency of diamonds grouped by cut. On the x-axis is the the five \" +\n",
    "      \"different types of cut, and on the y axis is the frequency each type of cut appeared in the dataset. \" +\n",
    "     \"Looking at the chart, ideal cut is the one that appeared the most frequently and fair cut is the one that \" + \n",
    "     \"appeared the lowest. \")\n"
   ]
  },
  {
   "cell_type": "code",
   "execution_count": 15,
   "id": "13d05d21",
   "metadata": {},
   "outputs": [
    {
     "data": {
      "image/png": "[encoded data removed]",
      "text/plain": [
       "<Figure size 432x288 with 1 Axes>"
      ]
     },
     "metadata": {
      "needs_background": "light"
     },
     "output_type": "display_data"
    }
   ],
   "source": [
    "# (5 pts) Create a scatterplot that shows the relationship between carat and price. \n",
    "# Explain the chart and comment on the relationship between the variables.\n",
    "\n",
    "plt.scatter(diamonds_df[\"carat\"], diamonds_df[\"price\"])\n",
    "plt.xlabel(\"Carat\")\n",
    "plt.ylabel(\"Price\")\n",
    "plt.title(\"Carat vs. Price\")\n",
    "plt.show()\n",
    "\n",
    "# This is a scatter plot showing the relationship between carat and price. On the x-axis, is the carat, and on the \n",
    "# y-axis is the price. The relationship between the two data columns is sort of a quadratic relationship \n",
    "# such as x squared. "
   ]
  },
  {
   "cell_type": "code",
   "execution_count": 16,
   "id": "7c285093",
   "metadata": {},
   "outputs": [
    {
     "data": {
      "text/html": [
       "<div>\n",
       "<style scoped>\n",
       "    .dataframe tbody tr th:only-of-type {\n",
       "        vertical-align: middle;\n",
       "    }\n",
       "\n",
       "    .dataframe tbody tr th {\n",
       "        vertical-align: top;\n",
       "    }\n",
       "\n",
       "    .dataframe thead th {\n",
       "        text-align: right;\n",
       "    }\n",
       "</style>\n",
       "<table border=\"1\" class=\"dataframe\">\n",
       "  <thead>\n",
       "    <tr style=\"text-align: right;\">\n",
       "      <th></th>\n",
       "      <th>carat</th>\n",
       "      <th>price</th>\n",
       "    </tr>\n",
       "  </thead>\n",
       "  <tbody>\n",
       "    <tr>\n",
       "      <th>carat</th>\n",
       "      <td>1.000000</td>\n",
       "      <td>0.921591</td>\n",
       "    </tr>\n",
       "    <tr>\n",
       "      <th>price</th>\n",
       "      <td>0.921591</td>\n",
       "      <td>1.000000</td>\n",
       "    </tr>\n",
       "  </tbody>\n",
       "</table>\n",
       "</div>"
      ],
      "text/plain": [
       "          carat     price\n",
       "carat  1.000000  0.921591\n",
       "price  0.921591  1.000000"
      ]
     },
     "execution_count": 16,
     "metadata": {},
     "output_type": "execute_result"
    }
   ],
   "source": [
    "# (10 pts) Calculate the Pearson Correlation coefficient of carat and price. \n",
    "# Explain the results and discuss the strength of the correlation.\n",
    "\n",
    "pearson = diamonds_df[[\"carat\", \"price\"]]\n",
    "pearson.corr(method = \"pearson\")\n",
    "\n",
    "# The price of one carat is 0.922. The strength of this correlation is strong. "
   ]
  },
  {
   "cell_type": "code",
   "execution_count": 46,
   "id": "a2bdb21d",
   "metadata": {},
   "outputs": [
    {
     "name": "stdout",
     "output_type": "stream",
     "text": [
      "       Unnamed: 0  carat    cut color clarity  depth  table  price     x  \\\n",
      "0               1   0.23  Ideal     E     SI2   61.5   55.0    326  3.95   \n",
      "11             12   0.23  Ideal     J     VS1   62.8   56.0    340  3.93   \n",
      "13             14   0.31  Ideal     J     SI2   62.2   54.0    344  4.35   \n",
      "16             17   0.30  Ideal     I     SI2   62.0   54.0    348  4.31   \n",
      "39             40   0.33  Ideal     I     SI2   61.8   55.0    403  4.49   \n",
      "...           ...    ...    ...   ...     ...    ...    ...    ...   ...   \n",
      "53925       53926   0.79  Ideal     I     SI1   61.6   56.0   2756  5.95   \n",
      "53926       53927   0.71  Ideal     E     SI1   61.9   56.0   2756  5.71   \n",
      "53929       53930   0.71  Ideal     G     VS1   61.4   56.0   2756  5.76   \n",
      "53935       53936   0.72  Ideal     D     SI1   60.8   57.0   2757  5.75   \n",
      "53939       53940   0.75  Ideal     D     SI2   62.2   55.0   2757  5.83   \n",
      "\n",
      "          y     z  \n",
      "0      3.98  2.43  \n",
      "11     3.90  2.46  \n",
      "13     4.37  2.71  \n",
      "16     4.34  2.68  \n",
      "39     4.51  2.78  \n",
      "...     ...   ...  \n",
      "53925  5.97  3.67  \n",
      "53926  5.73  3.54  \n",
      "53929  5.73  3.53  \n",
      "53935  5.76  3.50  \n",
      "53939  5.87  3.64  \n",
      "\n",
      "[21551 rows x 11 columns]\n"
     ]
    },
    {
     "data": {
      "image/png": "[encoded data removed]",
      "text/plain": [
       "<Figure size 432x288 with 1 Axes>"
      ]
     },
     "metadata": {
      "needs_background": "light"
     },
     "output_type": "display_data"
    }
   ],
   "source": [
    "# (15 pts) Create a histogram (or boxplot) that shows the distribution of prices based on the quality of the cut. \n",
    "# Explain the charts and skew.\n",
    "# Note: this question is asking you to show the distribution of diamond prices for each cut. \n",
    "# There should be a separate histogram/boxplot for each cut.\n",
    "\n",
    "ideal_df = diamonds_df \n",
    "ideal_df = ideal_df.drop(ideal_df[(ideal_df.cut != \"Ideal\")].index)\n",
    "print(ideal_df)\n",
    "plt.figure()\n",
    "ideal_df[\"price\"].hist()\n",
    "plt.xlabel(\"Price\")\n",
    "plt.ylabel(\"Frequency\")\n",
    "plt.title(\"Distribution of price based on Ideal\")\n",
    "plt.show()\n",
    "\n",
    "    "
   ]
  },
  {
   "cell_type": "code",
   "execution_count": 52,
   "id": "32f64162",
   "metadata": {},
   "outputs": [
    {
     "data": {
      "image/png": "[encoded data removed]",
      "text/plain": [
       "<Figure size 432x288 with 1 Axes>"
      ]
     },
     "metadata": {
      "needs_background": "light"
     },
     "output_type": "display_data"
    }
   ],
   "source": [
    "premium_df = diamonds_df \n",
    "premium_df = premium_df.drop(premium_df[(premium_df.cut != \"Premium\")].index)\n",
    "premium_df[\"price\"].hist()\n",
    "plt.xlabel(\"Price\")\n",
    "plt.ylabel(\"Frequency\")\n",
    "plt.title(\"Distribution of price based on Premium\")\n",
    "plt.show()\n",
    "\n",
    "    "
   ]
  },
  {
   "cell_type": "code",
   "execution_count": 55,
   "id": "79fdb45d",
   "metadata": {},
   "outputs": [
    {
     "data": {
      "image/png": "[encoded data removed]",
      "text/plain": [
       "<Figure size 432x288 with 1 Axes>"
      ]
     },
     "metadata": {
      "needs_background": "light"
     },
     "output_type": "display_data"
    }
   ],
   "source": [
    "verygood_df = diamonds_df\n",
    "verygood_df = verygood_df.drop(verygood_df[(verygood_df.cut != \"Very Good\")].index)\n",
    "verygood_df[\"price\"].hist()\n",
    "\n",
    "plt.xlabel(\"Price\")\n",
    "plt.ylabel(\"Frequency\")\n",
    "plt.title(\"Distribution of price based on Very Good\")\n",
    "plt.show()\n",
    "\n",
    "    "
   ]
  },
  {
   "cell_type": "code",
   "execution_count": 56,
   "id": "eedf0f69",
   "metadata": {},
   "outputs": [
    {
     "data": {
      "image/png": "[encoded data removed]",
      "text/plain": [
       "<Figure size 432x288 with 1 Axes>"
      ]
     },
     "metadata": {
      "needs_background": "light"
     },
     "output_type": "display_data"
    }
   ],
   "source": [
    "good_df = diamonds_df\n",
    "good_df = good_df.drop(good_df[(good_df.cut != \"Very Good\")].index)\n",
    "good_df[\"price\"].hist()\n",
    "plt.xlabel(\"Price\")\n",
    "plt.ylabel(\"Frequency\")\n",
    "plt.title(\"Distribution of price based on good\")\n",
    "plt.show()\n",
    "\n",
    "    "
   ]
  },
  {
   "cell_type": "code",
   "execution_count": 57,
   "id": "80ecec14",
   "metadata": {},
   "outputs": [
    {
     "data": {
      "image/png": "[encoded data removed]",
      "text/plain": [
       "<Figure size 432x288 with 1 Axes>"
      ]
     },
     "metadata": {
      "needs_background": "light"
     },
     "output_type": "display_data"
    }
   ],
   "source": [
    "fair_df = diamonds_df \n",
    "fair_df = fair_df.drop(fair_df[(fair_df.cut != \"Fair\")].index)\n",
    "fair_df[\"price\"].hist()\n",
    "plt.xlabel(\"Price\")\n",
    "plt.ylabel(\"Frequency\")\n",
    "plt.title(\"Distribution of price based on Fair\")\n",
    "plt.show()\n",
    "\n",
    "# Looking at the graphs, all of the histograms are right skewed. The price range are usually between 0 to 7500. \n",
    "# The highest bar in four of the graphs appeared above a frequency of 5000 in the price range of 0 to 2500. \n",
    "# The histogram with the distribution of price based on fair had the highest frequency above 500 in the price range \n",
    "# of 2500 to 5000. "
   ]
  },
  {
   "cell_type": "code",
   "execution_count": 61,
   "id": "479a37cc",
   "metadata": {},
   "outputs": [
    {
     "name": "stdout",
     "output_type": "stream",
     "text": [
      "The weight of premium and ideal are statistically different.\n"
     ]
    }
   ],
   "source": [
    "# (10 pts) Using a 2-sample t-test**, determine if there is a statistical difference between \n",
    "# the price of diamonds with a cut that is considered:\n",
    "# 'Good' vs 'Very Good'\n",
    "# 'Premium' vs 'Ideal'\n",
    "\n",
    "from scipy import stats\n",
    "\n",
    "#two sample t-test: is there a difference in good and very good \n",
    "\n",
    "#extract the data for good and very good \n",
    "good   = diamonds_df[diamonds_df['cut'] == 'Good']['price']\n",
    "very_good = diamonds_df[diamonds_df['cut'] == 'Very Good']['price']\n",
    "\n",
    "alpha = 0.05\n",
    "t_stat, p_value = stats.ttest_ind(good, very_good) #perform the t-test\n",
    "\n",
    "#compare the p_value with alpha to determine the significance\n",
    "if(p_value < alpha):\n",
    "    print('The weight of good and very good are statistically different.')\n",
    "    \n",
    "#The observed difference from our visualization/EDA appears to be plausible!    \n",
    "\n",
    "\n",
    "#two sample t-test: is there a difference in premium vs ideal \n",
    "\n",
    "#extract the data for good and very good \n",
    "premium   = diamonds_df[diamonds_df['cut'] == 'Premium']['price']\n",
    "ideal = diamonds_df[diamonds_df['cut'] == 'Ideal']['price']\n",
    "\n",
    "alpha = 0.05\n",
    "t_stat, p_value = stats.ttest_ind(premium, ideal) #perform the t-test\n",
    "\n",
    "#compare the p_value with alpha to determine the significance\n",
    "if(p_value < alpha):\n",
    "    print('The weight of premium and ideal are statistically different.')\n",
    "    \n",
    "#The observed difference from our visualization/EDA appears to be plausible!    "
   ]
  },
  {
   "cell_type": "code",
   "execution_count": null,
   "id": "30b286db",
   "metadata": {},
   "outputs": [],
   "source": []
  },
  {
   "cell_type": "code",
   "execution_count": null,
   "id": "0b552fb3",
   "metadata": {},
   "outputs": [],
   "source": []
  }
 ],
 "metadata": {
  "kernelspec": {
   "display_name": "Python 3 (ipykernel)",
   "language": "python",
   "name": "python3"
  },
  "language_info": {
   "codemirror_mode": {
    "name": "ipython",
    "version": 3
   },
   "file_extension": ".py",
   "mimetype": "text/x-python",
   "name": "python",
   "nbconvert_exporter": "python",
   "pygments_lexer": "ipython3",
   "version": "3.9.7"
  }
 },
 "nbformat": 4,
 "nbformat_minor": 5
}
