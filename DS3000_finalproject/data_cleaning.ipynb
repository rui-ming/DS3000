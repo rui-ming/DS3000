{
 "cells": [
  {
   "cell_type": "markdown",
   "id": "d2a0693e",
   "metadata": {},
   "source": [
    "MISM 2510"
   ]
  },
  {
   "cell_type": "code",
   "execution_count": 1,
   "id": "6dbfeb1d",
   "metadata": {},
   "outputs": [],
   "source": [
    "import pandas as pd\n",
    "import seaborn as sns\n",
    "import numpy as np\n",
    "import matplotlib as plt\n",
    "\n",
    "#importing the csv data into a pandas.DataFrame\n",
    "salaries = pd.read_csv('salaries.csv')"
   ]
  },
  {
   "cell_type": "code",
   "execution_count": 2,
   "id": "8c5f2bf7",
   "metadata": {},
   "outputs": [
    {
     "name": "stdout",
     "output_type": "stream",
     "text": [
      "As we observed from the heatmap, most of the data is consistent. However, there are a few columns that contain many null values. Therefore, we will be dropping the values and eliminating rows with null values.\n"
     ]
    },
    {
     "data": {
      "image/png": "[encoded data removed]",
      "text/plain": [
       "<Figure size 432x288 with 2 Axes>"
      ]
     },
     "metadata": {
      "needs_background": "light"
     },
     "output_type": "display_data"
    }
   ],
   "source": [
    "#using Seaborn, we are looking at the frequency of null values. \n",
    "#we noticed that most of the null values are gathered together\n",
    "#into a few columns.\n",
    "sns.heatmap(salaries.isnull())\n",
    "print('As we observed from the heatmap, most of the data is consistent.',\n",
    "      'However, there are a few columns that contain many null values.',\n",
    "      'Therefore, we will be dropping the values and eliminating rows with',\n",
    "      'null values.')\n"
   ]
  },
  {
   "cell_type": "code",
   "execution_count": 3,
   "id": "838a84e7",
   "metadata": {},
   "outputs": [
    {
     "name": "stdout",
     "output_type": "stream",
     "text": [
      "<class 'pandas.core.frame.DataFrame'>\n",
      "RangeIndex: 62642 entries, 0 to 62641\n",
      "Data columns (total 29 columns):\n",
      " #   Column                   Non-Null Count  Dtype  \n",
      "---  ------                   --------------  -----  \n",
      " 0   timestamp                62642 non-null  object \n",
      " 1   company                  62637 non-null  object \n",
      " 2   level                    62523 non-null  object \n",
      " 3   title                    62642 non-null  object \n",
      " 4   totalyearlycompensation  62642 non-null  int64  \n",
      " 5   location                 62642 non-null  object \n",
      " 6   yearsofexperience        62642 non-null  float64\n",
      " 7   yearsatcompany           62642 non-null  float64\n",
      " 8   tag                      61788 non-null  object \n",
      " 9   basesalary               62642 non-null  float64\n",
      " 10  stockgrantvalue          62642 non-null  float64\n",
      " 11  bonus                    62642 non-null  float64\n",
      " 12  gender                   43102 non-null  object \n",
      " 13  otherdetails             40137 non-null  object \n",
      " 14  cityid                   62642 non-null  int64  \n",
      " 15  dmaid                    62640 non-null  float64\n",
      " 16  rowNumber                62642 non-null  int64  \n",
      " 17  Masters_Degree           62642 non-null  int64  \n",
      " 18  Bachelors_Degree         62642 non-null  int64  \n",
      " 19  Doctorate_Degree         62642 non-null  int64  \n",
      " 20  Highschool               62642 non-null  int64  \n",
      " 21  Some_College             62642 non-null  int64  \n",
      " 22  Race_Asian               62642 non-null  int64  \n",
      " 23  Race_White               62642 non-null  int64  \n",
      " 24  Race_Two_Or_More         62642 non-null  int64  \n",
      " 25  Race_Black               62642 non-null  int64  \n",
      " 26  Race_Hispanic            62642 non-null  int64  \n",
      " 27  Race                     22427 non-null  object \n",
      " 28  Education                30370 non-null  object \n",
      "dtypes: float64(6), int64(13), object(10)\n",
      "memory usage: 13.9+ MB\n"
     ]
    }
   ],
   "source": [
    "#here, we are inspecting the non-nulls \n",
    "#to determine which columns we should drop\n",
    "salaries.info()"
   ]
  },
  {
   "cell_type": "code",
   "execution_count": 4,
   "id": "374ac7b9",
   "metadata": {},
   "outputs": [],
   "source": [
    "#having identified the columns, we are now dropping them\n",
    "salaries = salaries.drop(columns = ['gender', 'otherdetails',\n",
    "                                    'Race', 'Education'])"
   ]
  },
  {
   "cell_type": "code",
   "execution_count": 5,
   "id": "0e1241aa",
   "metadata": {},
   "outputs": [
    {
     "name": "stdout",
     "output_type": "stream",
     "text": [
      "<class 'pandas.core.frame.DataFrame'>\n",
      "Int64Index: 61665 entries, 409 to 62641\n",
      "Data columns (total 25 columns):\n",
      " #   Column                   Non-Null Count  Dtype  \n",
      "---  ------                   --------------  -----  \n",
      " 0   timestamp                61665 non-null  object \n",
      " 1   company                  61665 non-null  object \n",
      " 2   level                    61665 non-null  object \n",
      " 3   title                    61665 non-null  object \n",
      " 4   totalyearlycompensation  61665 non-null  int64  \n",
      " 5   location                 61665 non-null  object \n",
      " 6   yearsofexperience        61665 non-null  float64\n",
      " 7   yearsatcompany           61665 non-null  float64\n",
      " 8   tag                      61665 non-null  object \n",
      " 9   basesalary               61665 non-null  float64\n",
      " 10  stockgrantvalue          61665 non-null  float64\n",
      " 11  bonus                    61665 non-null  float64\n",
      " 12  cityid                   61665 non-null  int64  \n",
      " 13  dmaid                    61665 non-null  float64\n",
      " 14  rowNumber                61665 non-null  int64  \n",
      " 15  Masters_Degree           61665 non-null  int64  \n",
      " 16  Bachelors_Degree         61665 non-null  int64  \n",
      " 17  Doctorate_Degree         61665 non-null  int64  \n",
      " 18  Highschool               61665 non-null  int64  \n",
      " 19  Some_College             61665 non-null  int64  \n",
      " 20  Race_Asian               61665 non-null  int64  \n",
      " 21  Race_White               61665 non-null  int64  \n",
      " 22  Race_Two_Or_More         61665 non-null  int64  \n",
      " 23  Race_Black               61665 non-null  int64  \n",
      " 24  Race_Hispanic            61665 non-null  int64  \n",
      "dtypes: float64(6), int64(13), object(6)\n",
      "memory usage: 12.2+ MB\n"
     ]
    }
   ],
   "source": [
    "#now that the null columns have been dropped, we can drop the rows \n",
    "#with null values.\n",
    "salaries = salaries.dropna()\n",
    "\n",
    "#Lastly, we are double-checking our data, \n",
    "#making sure that there are no null values that remain.\n",
    "salaries.info()"
   ]
  },
  {
   "cell_type": "code",
   "execution_count": 6,
   "id": "926dce46",
   "metadata": {},
   "outputs": [],
   "source": [
    "#export the new, cleaned CSV as a file for future use\n",
    "salaries.to_csv('salaries_cleaned.csv')"
   ]
  }
 ],
 "metadata": {
  "kernelspec": {
   "display_name": "Python 3 (ipykernel)",
   "language": "python",
   "name": "python3"
  },
  "language_info": {
   "codemirror_mode": {
    "name": "ipython",
    "version": 3
   },
   "file_extension": ".py",
   "mimetype": "text/x-python",
   "name": "python",
   "nbconvert_exporter": "python",
   "pygments_lexer": "ipython3",
   "version": "3.9.7"
  }
 },
 "nbformat": 4,
 "nbformat_minor": 5
}
