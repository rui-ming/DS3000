{
 "cells": [
  {
   "cell_type": "code",
   "execution_count": 2,
   "id": "745f67dd",
   "metadata": {},
   "outputs": [
    {
     "name": "stdout",
     "output_type": "stream",
     "text": [
      "What is your name?RuiMing\n",
      "What year where you born?2002\n",
      "Hello, RuiMing\n",
      "You are 20\n"
     ]
    }
   ],
   "source": [
    "userName = input(\"What is your name?\")\n",
    "birthYear = input(\"What year where you born?\")\n",
    "\n",
    "birth_Year = int(birthYear) \n",
    "age = 2022 - birth_Year\n",
    "\n",
    "print(\"Hello,\" , userName)\n",
    "print(\"You are\", age)\n"
   ]
  },
  {
   "cell_type": "code",
   "execution_count": null,
   "id": "d4e5958a",
   "metadata": {},
   "outputs": [],
   "source": [
    "RuiMing Li \n",
    "Lab 1"
   ]
  },
  {
   "cell_type": "code",
   "execution_count": null,
   "id": "441f49f0",
   "metadata": {},
   "outputs": [],
   "source": []
  }
 ],
 "metadata": {
  "kernelspec": {
   "display_name": "Python 3 (ipykernel)",
   "language": "python",
   "name": "python3"
  },
  "language_info": {
   "codemirror_mode": {
    "name": "ipython",
    "version": 3
   },
   "file_extension": ".py",
   "mimetype": "text/x-python",
   "name": "python",
   "nbconvert_exporter": "python",
   "pygments_lexer": "ipython3",
   "version": "3.9.7"
  }
 },
 "nbformat": 4,
 "nbformat_minor": 5
}
