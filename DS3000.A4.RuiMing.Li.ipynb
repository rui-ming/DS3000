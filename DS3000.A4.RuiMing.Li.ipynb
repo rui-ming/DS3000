{
 "cells": [
  {
   "cell_type": "markdown",
   "metadata": {},
   "source": [
    "# DS 3000 - Assignment 4\n",
    "\n",
    "**Student Name**: [RuiMing Li]\n",
    "\n",
    "**Date**: [2/13/22]\n",
    "\n",
    "\n",
    "### Submission Instructions\n",
    "Submit this `ipynb` file to canvas.\n",
    "\n",
    "The `ipynb` format stores outputs from the last time you ran the notebook.  (When you open a notebook it has the figures and outputs of the last time you ran it too).  To ensure that your submitted `ipynb` file represents your latest code, make sure to give a fresh run `Kernel > Restart & Run All` just before uploading the `ipynb` file to Canvas.\n",
    "\n",
    "### Academic Integrity\n",
    "\n",
    "**Writing your homework is an individual effort.**  You may discuss general python problems with other students but under no circumstances should you observe another student's code which was written for this assignment, from this year or past years.  Pop into office hours or DM us in MS Teams if you have a specific question about your work or if you would like another pair of eyes or talk through your code.\n",
    "\n",
    "Don't forget to cite websites which helped you solve a problem in a unique way.  You can do this in markdown near the code or with a simple one-line comment. You do not need to cite the official python documentation.\n",
    "\n",
    "**Documentation / style counts for credit**  Please refer to the Pep-8 style, to improve the readability and consistency of your Python code. For more information, read the following article [How to Write Beautiful Python Code With PEP 8](https://realpython.com/python-pep8/) or ask your TA's for tips.\n",
    "\n",
    "**NOTE:<span style='color:red'> Write python expressions to answer ALL questions below and ensure that you use the `print()` function to display the output.</span>** Each question should be answered in a new code cell. For example, your solution for question 1.1 should be in a different code cell from your solution for question 1.2."
   ]
  },
  {
   "cell_type": "code",
   "execution_count": null,
   "metadata": {},
   "outputs": [],
   "source": []
  },
  {
   "cell_type": "raw",
   "metadata": {},
   "source": [
    "## Data Science Problem (50 pts)\n",
    "### Instructions\n",
    "\n",
    "You are hired as a Data Scientist for the NYC Taxi and Limousine Commission (TLC) and this company routinely collects trip data from all licensed cabs in NY. Your team would like to use this data in the future to understand how New Yorkers use these taxis. Your first assignment is to **analyze the data of the Green Taxis, and determine if its a viable source.**\n",
    "\n",
    "Your supervisor has requested that you perform your analysis using data from December 2019 and would like for you to present your findings during the next team meeting. Use a Jupyter notebook to explain your data wrangling and analytical steps to your colleagues. \n",
    "\n",
    "**Data & Documentation**\n",
    "\n",
    "- **Data Source:** https://nyc-tlc.s3.amazonaws.com/trip+data/green_tripdata_2019-12.csv\n",
    "- **Data Dictionary:** [Green Trips Data Dictionary](https://www1.nyc.gov/assets/tlc/downloads/pdf/data_dictionary_trip_records_green.pdf).\n",
    "\n",
    "\n",
    "**`Note:`** Ensure that you explain the results from each question.\n",
    "\n",
    "The TLC trip record data and a description of the initiative can be found at the following link: https://www1.nyc.gov/site/tlc/about/tlc-trip-record-data.page"
   ]
  },
  {
   "cell_type": "code",
   "execution_count": null,
   "metadata": {},
   "outputs": [],
   "source": []
  },
  {
   "cell_type": "markdown",
   "metadata": {},
   "source": [
    "## 1. Load the data\n",
    "Load the NYC Green Taxi Trip Records data directly from the URL into a data frame called tripdata_df."
   ]
  },
  {
   "cell_type": "code",
   "execution_count": 127,
   "metadata": {},
   "outputs": [
    {
     "name": "stderr",
     "output_type": "stream",
     "text": [
      "/Users/ruimingli/opt/anaconda3/lib/python3.9/site-packages/IPython/core/interactiveshell.py:3444: DtypeWarning: Columns (3) have mixed types.Specify dtype option on import or set low_memory=False.\n",
      "  exec(code_obj, self.user_global_ns, self.user_ns)\n"
     ]
    }
   ],
   "source": [
    "import pandas as pd \n",
    "\n",
    "tripdata_df = pd.read_csv('https://nyc-tlc.s3.amazonaws.com/trip+data/green_tripdata_2019-12.csv')"
   ]
  },
  {
   "cell_type": "markdown",
   "metadata": {},
   "source": [
    "## 2. Inspect the Data (3 pts) \n",
    "Inspect the data to: 1) identify its dimensions, and 2) indicate if the variables have suitable types."
   ]
  },
  {
   "cell_type": "code",
   "execution_count": 128,
   "metadata": {},
   "outputs": [
    {
     "name": "stdout",
     "output_type": "stream",
     "text": [
      "<class 'pandas.core.frame.DataFrame'>\n",
      "RangeIndex: 450627 entries, 0 to 450626\n",
      "Data columns (total 20 columns):\n",
      " #   Column                 Non-Null Count   Dtype  \n",
      "---  ------                 --------------   -----  \n",
      " 0   VendorID               359902 non-null  float64\n",
      " 1   lpep_pickup_datetime   450627 non-null  object \n",
      " 2   lpep_dropoff_datetime  450627 non-null  object \n",
      " 3   store_and_fwd_flag     359902 non-null  object \n",
      " 4   RatecodeID             359902 non-null  float64\n",
      " 5   PULocationID           450627 non-null  int64  \n",
      " 6   DOLocationID           450627 non-null  int64  \n",
      " 7   passenger_count        359902 non-null  float64\n",
      " 8   trip_distance          450627 non-null  float64\n",
      " 9   fare_amount            450627 non-null  float64\n",
      " 10  extra                  450627 non-null  float64\n",
      " 11  mta_tax                450627 non-null  float64\n",
      " 12  tip_amount             450627 non-null  float64\n",
      " 13  tolls_amount           450627 non-null  float64\n",
      " 14  ehail_fee              0 non-null       float64\n",
      " 15  improvement_surcharge  450625 non-null  float64\n",
      " 16  total_amount           450627 non-null  float64\n",
      " 17  payment_type           359902 non-null  float64\n",
      " 18  trip_type              359900 non-null  float64\n",
      " 19  congestion_surcharge   359900 non-null  float64\n",
      "dtypes: float64(15), int64(2), object(3)\n",
      "memory usage: 68.8+ MB\n"
     ]
    }
   ],
   "source": [
    "tripdata_df.info()"
   ]
  },
  {
   "cell_type": "code",
   "execution_count": 129,
   "metadata": {},
   "outputs": [],
   "source": [
    "# The dimensions is : [450627 rows x 20 columns] \n",
    "# The vendorID can be an integer (but float works also)\n",
    "# store_and_fwd_flag can also be string \n",
    "# lpep_pickup_datetime can be a integer (might be difficult bcz of the dashes and semicolons)\n",
    "# lpep_dropoff_datetime can be a integer "
   ]
  },
  {
   "cell_type": "code",
   "execution_count": 130,
   "metadata": {},
   "outputs": [
    {
     "data": {
      "text/html": [
       "<div>\n",
       "<style scoped>\n",
       "    .dataframe tbody tr th:only-of-type {\n",
       "        vertical-align: middle;\n",
       "    }\n",
       "\n",
       "    .dataframe tbody tr th {\n",
       "        vertical-align: top;\n",
       "    }\n",
       "\n",
       "    .dataframe thead th {\n",
       "        text-align: right;\n",
       "    }\n",
       "</style>\n",
       "<table border=\"1\" class=\"dataframe\">\n",
       "  <thead>\n",
       "    <tr style=\"text-align: right;\">\n",
       "      <th></th>\n",
       "      <th>VendorID</th>\n",
       "      <th>lpep_pickup_datetime</th>\n",
       "      <th>lpep_dropoff_datetime</th>\n",
       "      <th>store_and_fwd_flag</th>\n",
       "      <th>RatecodeID</th>\n",
       "      <th>PULocationID</th>\n",
       "      <th>DOLocationID</th>\n",
       "      <th>passenger_count</th>\n",
       "      <th>trip_distance</th>\n",
       "      <th>fare_amount</th>\n",
       "      <th>extra</th>\n",
       "      <th>mta_tax</th>\n",
       "      <th>tip_amount</th>\n",
       "      <th>tolls_amount</th>\n",
       "      <th>ehail_fee</th>\n",
       "      <th>improvement_surcharge</th>\n",
       "      <th>total_amount</th>\n",
       "      <th>payment_type</th>\n",
       "      <th>trip_type</th>\n",
       "      <th>congestion_surcharge</th>\n",
       "    </tr>\n",
       "  </thead>\n",
       "  <tbody>\n",
       "    <tr>\n",
       "      <th>0</th>\n",
       "      <td>1.0</td>\n",
       "      <td>2019-12-01 00:09:45</td>\n",
       "      <td>2019-12-01 00:10:59</td>\n",
       "      <td>N</td>\n",
       "      <td>1.0</td>\n",
       "      <td>145</td>\n",
       "      <td>145</td>\n",
       "      <td>1.0</td>\n",
       "      <td>0.00</td>\n",
       "      <td>3.0</td>\n",
       "      <td>0.5</td>\n",
       "      <td>0.5</td>\n",
       "      <td>0.00</td>\n",
       "      <td>0.0</td>\n",
       "      <td>NaN</td>\n",
       "      <td>0.3</td>\n",
       "      <td>4.30</td>\n",
       "      <td>2.0</td>\n",
       "      <td>1.0</td>\n",
       "      <td>0.0</td>\n",
       "    </tr>\n",
       "    <tr>\n",
       "      <th>1</th>\n",
       "      <td>2.0</td>\n",
       "      <td>2019-12-01 00:26:05</td>\n",
       "      <td>2019-12-01 00:31:30</td>\n",
       "      <td>N</td>\n",
       "      <td>1.0</td>\n",
       "      <td>24</td>\n",
       "      <td>41</td>\n",
       "      <td>1.0</td>\n",
       "      <td>0.67</td>\n",
       "      <td>5.5</td>\n",
       "      <td>0.5</td>\n",
       "      <td>0.5</td>\n",
       "      <td>2.04</td>\n",
       "      <td>0.0</td>\n",
       "      <td>NaN</td>\n",
       "      <td>0.3</td>\n",
       "      <td>8.84</td>\n",
       "      <td>1.0</td>\n",
       "      <td>1.0</td>\n",
       "      <td>0.0</td>\n",
       "    </tr>\n",
       "    <tr>\n",
       "      <th>2</th>\n",
       "      <td>2.0</td>\n",
       "      <td>2019-12-01 00:56:36</td>\n",
       "      <td>2019-12-01 00:59:38</td>\n",
       "      <td>N</td>\n",
       "      <td>1.0</td>\n",
       "      <td>74</td>\n",
       "      <td>41</td>\n",
       "      <td>1.0</td>\n",
       "      <td>0.61</td>\n",
       "      <td>4.5</td>\n",
       "      <td>0.5</td>\n",
       "      <td>0.5</td>\n",
       "      <td>0.00</td>\n",
       "      <td>0.0</td>\n",
       "      <td>NaN</td>\n",
       "      <td>0.3</td>\n",
       "      <td>5.80</td>\n",
       "      <td>2.0</td>\n",
       "      <td>1.0</td>\n",
       "      <td>0.0</td>\n",
       "    </tr>\n",
       "    <tr>\n",
       "      <th>3</th>\n",
       "      <td>2.0</td>\n",
       "      <td>2019-12-01 00:26:20</td>\n",
       "      <td>2019-12-01 00:40:19</td>\n",
       "      <td>N</td>\n",
       "      <td>1.0</td>\n",
       "      <td>255</td>\n",
       "      <td>157</td>\n",
       "      <td>1.0</td>\n",
       "      <td>3.90</td>\n",
       "      <td>14.0</td>\n",
       "      <td>0.5</td>\n",
       "      <td>0.5</td>\n",
       "      <td>0.00</td>\n",
       "      <td>0.0</td>\n",
       "      <td>NaN</td>\n",
       "      <td>0.3</td>\n",
       "      <td>15.30</td>\n",
       "      <td>2.0</td>\n",
       "      <td>1.0</td>\n",
       "      <td>0.0</td>\n",
       "    </tr>\n",
       "    <tr>\n",
       "      <th>4</th>\n",
       "      <td>2.0</td>\n",
       "      <td>2019-12-01 00:56:36</td>\n",
       "      <td>2019-12-01 00:59:56</td>\n",
       "      <td>N</td>\n",
       "      <td>1.0</td>\n",
       "      <td>80</td>\n",
       "      <td>255</td>\n",
       "      <td>1.0</td>\n",
       "      <td>0.50</td>\n",
       "      <td>4.5</td>\n",
       "      <td>0.5</td>\n",
       "      <td>0.5</td>\n",
       "      <td>0.00</td>\n",
       "      <td>0.0</td>\n",
       "      <td>NaN</td>\n",
       "      <td>0.3</td>\n",
       "      <td>5.80</td>\n",
       "      <td>2.0</td>\n",
       "      <td>1.0</td>\n",
       "      <td>0.0</td>\n",
       "    </tr>\n",
       "  </tbody>\n",
       "</table>\n",
       "</div>"
      ],
      "text/plain": [
       "   VendorID lpep_pickup_datetime lpep_dropoff_datetime store_and_fwd_flag  \\\n",
       "0       1.0  2019-12-01 00:09:45   2019-12-01 00:10:59                  N   \n",
       "1       2.0  2019-12-01 00:26:05   2019-12-01 00:31:30                  N   \n",
       "2       2.0  2019-12-01 00:56:36   2019-12-01 00:59:38                  N   \n",
       "3       2.0  2019-12-01 00:26:20   2019-12-01 00:40:19                  N   \n",
       "4       2.0  2019-12-01 00:56:36   2019-12-01 00:59:56                  N   \n",
       "\n",
       "   RatecodeID  PULocationID  DOLocationID  passenger_count  trip_distance  \\\n",
       "0         1.0           145           145              1.0           0.00   \n",
       "1         1.0            24            41              1.0           0.67   \n",
       "2         1.0            74            41              1.0           0.61   \n",
       "3         1.0           255           157              1.0           3.90   \n",
       "4         1.0            80           255              1.0           0.50   \n",
       "\n",
       "   fare_amount  extra  mta_tax  tip_amount  tolls_amount  ehail_fee  \\\n",
       "0          3.0    0.5      0.5        0.00           0.0        NaN   \n",
       "1          5.5    0.5      0.5        2.04           0.0        NaN   \n",
       "2          4.5    0.5      0.5        0.00           0.0        NaN   \n",
       "3         14.0    0.5      0.5        0.00           0.0        NaN   \n",
       "4          4.5    0.5      0.5        0.00           0.0        NaN   \n",
       "\n",
       "   improvement_surcharge  total_amount  payment_type  trip_type  \\\n",
       "0                    0.3          4.30           2.0        1.0   \n",
       "1                    0.3          8.84           1.0        1.0   \n",
       "2                    0.3          5.80           2.0        1.0   \n",
       "3                    0.3         15.30           2.0        1.0   \n",
       "4                    0.3          5.80           2.0        1.0   \n",
       "\n",
       "   congestion_surcharge  \n",
       "0                   0.0  \n",
       "1                   0.0  \n",
       "2                   0.0  \n",
       "3                   0.0  \n",
       "4                   0.0  "
      ]
     },
     "execution_count": 130,
     "metadata": {},
     "output_type": "execute_result"
    }
   ],
   "source": [
    "tripdata_df.head()"
   ]
  },
  {
   "cell_type": "markdown",
   "metadata": {},
   "source": [
    "## 3. Missing Values (5 pts) \n",
    "Evaluate the frequency of missing values in the dataset. Are missing values an isolated case or a widespread issue? What method would you recommend to handle missing data?"
   ]
  },
  {
   "cell_type": "code",
   "execution_count": 131,
   "metadata": {},
   "outputs": [
    {
     "data": {
      "text/plain": [
       "VendorID                  90725\n",
       "lpep_pickup_datetime          0\n",
       "lpep_dropoff_datetime         0\n",
       "store_and_fwd_flag        90725\n",
       "RatecodeID                90725\n",
       "PULocationID                  0\n",
       "DOLocationID                  0\n",
       "passenger_count           90725\n",
       "trip_distance                 0\n",
       "fare_amount                   0\n",
       "extra                         0\n",
       "mta_tax                       0\n",
       "tip_amount                    0\n",
       "tolls_amount                  0\n",
       "ehail_fee                450627\n",
       "improvement_surcharge         2\n",
       "total_amount                  0\n",
       "payment_type              90725\n",
       "trip_type                 90727\n",
       "congestion_surcharge      90727\n",
       "dtype: int64"
      ]
     },
     "execution_count": 131,
     "metadata": {},
     "output_type": "execute_result"
    }
   ],
   "source": [
    "#check the frequency of null values in each column\n",
    "tripdata_df.isnull().sum()"
   ]
  },
  {
   "cell_type": "code",
   "execution_count": 132,
   "metadata": {},
   "outputs": [
    {
     "data": {
      "text/plain": [
       "450626    8\n",
       "390114    8\n",
       "390138    8\n",
       "390139    8\n",
       "390140    8\n",
       "         ..\n",
       "150205    1\n",
       "150204    1\n",
       "150203    1\n",
       "150202    1\n",
       "225313    1\n",
       "Length: 450627, dtype: int64"
      ]
     },
     "execution_count": 132,
     "metadata": {},
     "output_type": "execute_result"
    }
   ],
   "source": [
    "tripdata_df.isnull().sum(axis=1).sort_values(ascending = False) \n",
    "# count the frequency of missing values in each row (i.e. how many columns are empty)"
   ]
  },
  {
   "cell_type": "code",
   "execution_count": 133,
   "metadata": {},
   "outputs": [],
   "source": [
    "# There are eight variables with missing data. This seems to be a widespread issue.  \n",
    "\n",
    "\n",
    "# HOW TO HANDLE THE MISSING VALUES: \n",
    "# we can either 1. since we have 20 columns, we might have rows with 40% of the data missing so we can \n",
    "# either delete the rows with more than 40% of the data missing or \n",
    "# 2. we can perform an imputation which is a technique that replaces the missing value with a suitable replacement \n",
    "# I recommend deleting the rows with more than 40% of the data missing and then using imputation for the rows missing 1 data value. "
   ]
  },
  {
   "cell_type": "markdown",
   "metadata": {},
   "source": [
    "## 4. Types of Data (5 pts) \n",
    "Are there any categorical data in this dataset. If they exist, identify at least two variables and indicate if  they are nominal or ordinal (hint: read the data dictionary above which describes all field in the data)"
   ]
  },
  {
   "cell_type": "code",
   "execution_count": 134,
   "metadata": {},
   "outputs": [],
   "source": [
    "# Yes, there are categorical data in this data set. \n",
    "# Ordinal: payment_type \n",
    "# Nominal: RateCodeID"
   ]
  },
  {
   "cell_type": "markdown",
   "metadata": {},
   "source": [
    "## 5. Invalid Data (5 pts) \n",
    "Explore the data to determine if there are any invalid values. Demonstrate at least three issues that you found."
   ]
  },
  {
   "cell_type": "code",
   "execution_count": 135,
   "metadata": {},
   "outputs": [
    {
     "name": "stdout",
     "output_type": "stream",
     "text": [
      "        VendorID lpep_pickup_datetime lpep_dropoff_datetime  \\\n",
      "58           2.0  2019-12-01 00:35:40   2019-12-01 00:37:54   \n",
      "410          2.0  2019-12-01 00:36:26   2019-12-01 00:42:22   \n",
      "842          2.0  2019-12-01 02:00:06   2019-12-01 02:05:41   \n",
      "1114         2.0  2019-12-01 03:38:45   2019-12-01 03:40:16   \n",
      "1168         2.0  2019-12-01 03:54:54   2019-12-01 03:55:28   \n",
      "...          ...                  ...                   ...   \n",
      "450142       NaN  2019-12-31 18:51:00   2019-12-31 19:13:00   \n",
      "450183       NaN  2019-12-31 18:39:00   2019-12-31 19:19:00   \n",
      "450348       NaN  2019-12-31 20:16:00   2019-12-31 20:27:00   \n",
      "450351       NaN  2019-12-31 20:42:00   2019-12-31 21:11:00   \n",
      "450625       NaN  2019-12-31 23:16:00   2019-12-31 23:37:00   \n",
      "\n",
      "       store_and_fwd_flag  RatecodeID  PULocationID  DOLocationID  \\\n",
      "58                      N         1.0            80            80   \n",
      "410                     N         1.0           112           112   \n",
      "842                     N         1.0           255           112   \n",
      "1114                    N         1.0            36            80   \n",
      "1168                    N         1.0            82           129   \n",
      "...                   ...         ...           ...           ...   \n",
      "450142                NaN         NaN           177           225   \n",
      "450183                NaN         NaN            39            21   \n",
      "450348                NaN         NaN            16            64   \n",
      "450351                NaN         NaN           244            32   \n",
      "450625                NaN         NaN            51           126   \n",
      "\n",
      "        passenger_count  trip_distance  fare_amount  extra  mta_tax  \\\n",
      "58                  1.0           0.44        -3.50  -0.50     -0.5   \n",
      "410                 5.0           0.58        -4.00  -0.50     -0.5   \n",
      "842                 1.0           0.71        -5.50  -0.50     -0.5   \n",
      "1114                1.0           0.23        -3.00  -0.50     -0.5   \n",
      "1168                1.0           0.01        -2.50  -0.50     -0.5   \n",
      "...                 ...            ...          ...    ...      ...   \n",
      "450142              NaN          -3.25        19.20   5.50      0.5   \n",
      "450183              NaN          -5.50        30.13   2.75      0.5   \n",
      "450348              NaN          -2.91        18.45   2.75      0.5   \n",
      "450351              NaN          -6.38        32.45   2.75      0.5   \n",
      "450625              NaN          -7.16        35.95   2.75      0.5   \n",
      "\n",
      "        tip_amount  tolls_amount  ehail_fee  improvement_surcharge  \\\n",
      "58             0.0           0.0        NaN                   -0.3   \n",
      "410            0.0           0.0        NaN                   -0.3   \n",
      "842            0.0           0.0        NaN                   -0.3   \n",
      "1114           0.0           0.0        NaN                   -0.3   \n",
      "1168           0.0           0.0        NaN                   -0.3   \n",
      "...            ...           ...        ...                    ...   \n",
      "450142         0.0           0.0        NaN                    0.3   \n",
      "450183         0.0           0.0        NaN                    0.3   \n",
      "450348         0.0           0.0        NaN                    0.3   \n",
      "450351         0.0           0.0        NaN                    0.3   \n",
      "450625         0.0           0.0        NaN                    0.3   \n",
      "\n",
      "        total_amount  payment_type  trip_type  congestion_surcharge  \n",
      "58             -4.80           3.0        1.0                   0.0  \n",
      "410            -5.30           4.0        1.0                   0.0  \n",
      "842            -6.80           3.0        1.0                   0.0  \n",
      "1114           -4.30           3.0        1.0                   0.0  \n",
      "1168           -3.80           3.0        1.0                   0.0  \n",
      "...              ...           ...        ...                   ...  \n",
      "450142         25.50           NaN        NaN                   NaN  \n",
      "450183         33.68           NaN        NaN                   NaN  \n",
      "450348         22.00           NaN        NaN                   NaN  \n",
      "450351         36.00           NaN        NaN                   NaN  \n",
      "450625         39.50           NaN        NaN                   NaN  \n",
      "\n",
      "[4192 rows x 20 columns]\n"
     ]
    }
   ],
   "source": [
    "# trip fare should not be negative \n",
    "# total amount should not be negative \n",
    "# distance traveled should not be negative \n",
    "\n",
    "invalidNegData = tripdata_df[(tripdata_df.fare_amount < 0) | (tripdata_df.total_amount < 0) | (tripdata_df.trip_distance < 0)]\n",
    "\n",
    "print (invalidNegData)"
   ]
  },
  {
   "cell_type": "markdown",
   "metadata": {},
   "source": [
    "## 6. Data Preparation (15 pts) \n",
    "Based on the issues that you identified in questions 2, 3 & 5 above, perform the appropriate steps to clean the data and prepare the data for analysis. \n"
   ]
  },
  {
   "cell_type": "code",
   "execution_count": 136,
   "metadata": {},
   "outputs": [
    {
     "data": {
      "text/plain": [
       "VendorID                 float64\n",
       "lpep_pickup_datetime      object\n",
       "lpep_dropoff_datetime     object\n",
       "store_and_fwd_flag        string\n",
       "RatecodeID               float64\n",
       "PULocationID               int64\n",
       "DOLocationID               int64\n",
       "passenger_count          float64\n",
       "trip_distance            float64\n",
       "fare_amount              float64\n",
       "extra                    float64\n",
       "mta_tax                  float64\n",
       "tip_amount               float64\n",
       "tolls_amount             float64\n",
       "improvement_surcharge     object\n",
       "total_amount             float64\n",
       "payment_type             float64\n",
       "trip_type                float64\n",
       "congestion_surcharge     float64\n",
       "dtype: object"
      ]
     },
     "execution_count": 136,
     "metadata": {},
     "output_type": "execute_result"
    }
   ],
   "source": [
    "# deleting the data for rows with more than 40% \n",
    "#Handle missing data -- deletion\n",
    "tripdata_df = tripdata_df[tripdata_df.isnull().sum(axis=1) < 4] #delete rows with 4 or more missing variables (in each row)\n",
    "tripdata_df['improvement_surcharge'].value_counts(dropna=False) \n",
    "tripdata_df.loc[tripdata_df['improvement_surcharge'].isna(), 'improvement_surcharge'] = '0.3' \n",
    "\n",
    "tripdata_df.shape\n",
    "\n",
    "# drop column ehail_fee\n",
    "tripdata_df = tripdata_df.drop(columns = 'ehail_fee')\n",
    "\n",
    "# replacing the data with 1 variable missing \n",
    "\n",
    "# dropping the negative data for fare_amount \n",
    "tripdata_df = tripdata_df.drop(tripdata_df[tripdata_df.fare_amount < 0].index)\n",
    "\n",
    "# dropping the negative data for total_amount \n",
    "tripdata_df = tripdata_df.drop(tripdata_df[tripdata_df.total_amount < 0].index)\n",
    "\n",
    "# dropping the negative data for trip_distance \n",
    "tripdata_df = tripdata_df.drop(tripdata_df[tripdata_df.trip_distance < 0].index)\n",
    "\n",
    "# changing data types \n",
    "tripdata_df['store_and_fwd_flag']  = tripdata_df['store_and_fwd_flag'].astype('string')\n",
    "#tripdata_df['lpep_pickup_datetime']  = tripdata_df['lpep_pickup_datetime'].astype(int)\n",
    "#tripdata_df['lpep_dropoff_datetime']  = tripdata_df['lpep_dropoff_datetime'].astype(int)\n",
    "\n",
    "#print(tripdata_df)\n",
    "tripdata_df.dtypes\n"
   ]
  },
  {
   "cell_type": "markdown",
   "metadata": {},
   "source": [
    "## 7. Data Analysis (10 pts)\n",
    "Answer the following question using the prepared data. What is the most expensive and least expensive trip in this dataset and how far did they travel? Explain the results."
   ]
  },
  {
   "cell_type": "code",
   "execution_count": 150,
   "metadata": {},
   "outputs": [
    {
     "name": "stdout",
     "output_type": "stream",
     "text": [
      "500.3\n",
      "0.0\n",
      "The most expensive trip costed 500.3\n",
      "It traveled 335052    0.0\n",
      "Name: trip_distance, dtype: float64\n",
      "The least expensive trip costed 0.0\n",
      "It traveled 303        1.10\n",
      "669        0.00\n",
      "815        5.90\n",
      "1437       0.58\n",
      "1439       0.63\n",
      "          ...  \n",
      "356827     1.90\n",
      "356828     1.90\n",
      "357844     8.50\n",
      "358145    10.80\n",
      "359266     0.00\n",
      "Name: trip_distance, Length: 1144, dtype: float64\n"
     ]
    }
   ],
   "source": [
    "expensive_trip = tripdata_df.total_amount.max(axis=0)\n",
    "cheap_trip = tripdata_df.total_amount.min(axis=0)\n",
    "\n",
    "print(expensive_trip)\n",
    "print(cheap_trip)\n",
    "\n",
    "# how get the travel distance \n",
    "expensive_distance = tripdata_df.loc[tripdata_df.total_amount == expensive_trip]\n",
    "cheap_distance = tripdata_df.loc[tripdata_df.total_amount == cheap_trip]\n",
    "\n",
    "print(\"The most expensive trip costed\", expensive_trip)\n",
    "print(\"It traveled\", expensive_distance.trip_distance)\n",
    "print(\"The least expensive trip costed\", cheap_trip)\n",
    "print(\"It traveled\", cheap_distance.trip_distance)\n",
    "\n"
   ]
  },
  {
   "cell_type": "markdown",
   "metadata": {},
   "source": [
    "## 8. Data Visualization (5 pts) \n",
    "Create bar charts that show: 1) the most common way that New Yorkers request/hail a cab and 2) the most common drop-off location (display the top 5 locations). Explain the charts."
   ]
  },
  {
   "cell_type": "code",
   "execution_count": 156,
   "metadata": {},
   "outputs": [
    {
     "data": {
      "text/plain": [
       "<AxesSubplot:>"
      ]
     },
     "execution_count": 156,
     "metadata": {},
     "output_type": "execute_result"
    },
    {
     "data": {
      "image/png": "[encoded data removed]",
      "text/plain": [
       "<Figure size 432x288 with 1 Axes>"
      ]
     },
     "metadata": {
      "needs_background": "light"
     },
     "output_type": "display_data"
    }
   ],
   "source": [
    "common_way = tripdata_df['trip_type'].value_counts().head()\n",
    "\n",
    "common_way.plot(kind='bar')\n"
   ]
  },
  {
   "cell_type": "code",
   "execution_count": 157,
   "metadata": {},
   "outputs": [
    {
     "data": {
      "text/plain": [
       "<AxesSubplot:>"
      ]
     },
     "execution_count": 157,
     "metadata": {},
     "output_type": "execute_result"
    },
    {
     "data": {
      "image/png": "[encoded data removed]",
      "text/plain": [
       "<Figure size 432x288 with 1 Axes>"
      ]
     },
     "metadata": {
      "needs_background": "light"
     },
     "output_type": "display_data"
    }
   ],
   "source": [
    "top_dropoff = tripdata_df['DOLocationID'].value_counts().head(5)\n",
    "\n",
    "top_dropoff.plot(kind='bar')"
   ]
  },
  {
   "cell_type": "code",
   "execution_count": null,
   "metadata": {},
   "outputs": [],
   "source": [
    "# The first graph compares the most common way where New Yorkers request a cab and 1.0 represents a Street Hail and a \n",
    "# 2.0 represents a Dispatch. It seems like there the Street Hail is way more popular than the Dispatch. \n",
    "# The second graph compares the top 5 most common drop off location. The most common taxizone happens to be 74 and \n",
    "# and the least common happens to be either 129 or 75. "
   ]
  },
  {
   "cell_type": "markdown",
   "metadata": {},
   "source": [
    "## 9. Findings (2 pts)\n",
    "Based on the preliminary analysis, is this data a viable source that can be used by your team in the future to understand how New Yorkers use these taxis? Justify your response."
   ]
  },
  {
   "cell_type": "code",
   "execution_count": 158,
   "metadata": {},
   "outputs": [],
   "source": [
    "# No, this data is not a viable source that can be used by my team in the future to understand how New Yorkers use \n",
    "# taxis because there was a majority of null / negative values throughout the dataset that had to be removed. \n",
    "# There was also frequent rows/columns that had 90725 null values in it. "
   ]
  },
  {
   "cell_type": "code",
   "execution_count": null,
   "metadata": {},
   "outputs": [],
   "source": []
  },
  {
   "cell_type": "code",
   "execution_count": null,
   "metadata": {},
   "outputs": [],
   "source": []
  }
 ],
 "metadata": {
  "kernelspec": {
   "display_name": "Python 3 (ipykernel)",
   "language": "python",
   "name": "python3"
  },
  "language_info": {
   "codemirror_mode": {
    "name": "ipython",
    "version": 3
   },
   "file_extension": ".py",
   "mimetype": "text/x-python",
   "name": "python",
   "nbconvert_exporter": "python",
   "pygments_lexer": "ipython3",
   "version": "3.9.7"
  }
 },
 "nbformat": 4,
 "nbformat_minor": 4
}
