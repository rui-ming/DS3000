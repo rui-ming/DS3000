{
 "cells": [
  {
   "cell_type": "code",
   "execution_count": 7,
   "id": "f1a2d204",
   "metadata": {},
   "outputs": [
    {
     "data": {
      "text/html": [
       "<div>\n",
       "<style scoped>\n",
       "    .dataframe tbody tr th:only-of-type {\n",
       "        vertical-align: middle;\n",
       "    }\n",
       "\n",
       "    .dataframe tbody tr th {\n",
       "        vertical-align: top;\n",
       "    }\n",
       "\n",
       "    .dataframe thead th {\n",
       "        text-align: right;\n",
       "    }\n",
       "</style>\n",
       "<table border=\"1\" class=\"dataframe\">\n",
       "  <thead>\n",
       "    <tr style=\"text-align: right;\">\n",
       "      <th></th>\n",
       "      <th>sepal length</th>\n",
       "      <th>sepal width</th>\n",
       "      <th>petal length</th>\n",
       "      <th>petal width</th>\n",
       "      <th>class</th>\n",
       "    </tr>\n",
       "  </thead>\n",
       "  <tbody>\n",
       "    <tr>\n",
       "      <th>0</th>\n",
       "      <td>5.1</td>\n",
       "      <td>3.5</td>\n",
       "      <td>1.4</td>\n",
       "      <td>0.2</td>\n",
       "      <td>setosa</td>\n",
       "    </tr>\n",
       "    <tr>\n",
       "      <th>1</th>\n",
       "      <td>4.9</td>\n",
       "      <td>3.0</td>\n",
       "      <td>1.4</td>\n",
       "      <td>0.2</td>\n",
       "      <td>setosa</td>\n",
       "    </tr>\n",
       "    <tr>\n",
       "      <th>2</th>\n",
       "      <td>4.7</td>\n",
       "      <td>3.2</td>\n",
       "      <td>1.3</td>\n",
       "      <td>0.2</td>\n",
       "      <td>setosa</td>\n",
       "    </tr>\n",
       "    <tr>\n",
       "      <th>3</th>\n",
       "      <td>4.6</td>\n",
       "      <td>3.1</td>\n",
       "      <td>1.5</td>\n",
       "      <td>0.2</td>\n",
       "      <td>setosa</td>\n",
       "    </tr>\n",
       "    <tr>\n",
       "      <th>4</th>\n",
       "      <td>5.0</td>\n",
       "      <td>3.6</td>\n",
       "      <td>1.4</td>\n",
       "      <td>0.2</td>\n",
       "      <td>setosa</td>\n",
       "    </tr>\n",
       "  </tbody>\n",
       "</table>\n",
       "</div>"
      ],
      "text/plain": [
       "   sepal length  sepal width  petal length  petal width   class\n",
       "0           5.1          3.5           1.4          0.2  setosa\n",
       "1           4.9          3.0           1.4          0.2  setosa\n",
       "2           4.7          3.2           1.3          0.2  setosa\n",
       "3           4.6          3.1           1.5          0.2  setosa\n",
       "4           5.0          3.6           1.4          0.2  setosa"
      ]
     },
     "execution_count": 7,
     "metadata": {},
     "output_type": "execute_result"
    }
   ],
   "source": [
    "import pandas as pd\n",
    "import numpy as np\n",
    "from sklearn.svm import SVC\n",
    "from sklearn.preprocessing import StandardScaler\n",
    "from sklearn.preprocessing import OneHotEncoder\n",
    "from sklearn.model_selection import train_test_split\n",
    "from sklearn.metrics import classification_report\n",
    "import matplotlib.pyplot as plt\n",
    "from sklearn.model_selection import GridSearchCV\n",
    "from sklearn.datasets import load_iris\n",
    "\n",
    "\n",
    "#load the data from sklearn.datasets\n",
    "data     = load_iris()\n",
    "\n",
    "\n",
    "#divide the data into the input 'X' and the labels 'y'\n",
    "X        = data['data'] #the observations\n",
    "y        = data['target'] #the label\n",
    "\n",
    "#load the data in a pandas dataframe\n",
    "df          = pd.DataFrame(X, columns=['sepal length', 'sepal width', 'petal length', 'petal width'])\n",
    "df['class'] = [data['target_names'][idx] for idx in y]\n",
    "\n",
    "#split the data into training and test sets\n",
    "X_train, X_test, y_train, y_test = train_test_split( \n",
    "                                        #TODO: enter the appropriate values to partition the data, \n",
    "                                        #and ensure your results are reproducible\n",
    "                                        #and obtain stratified samples\n",
    "                                                    X,              #the input features\n",
    "                                                    y,              #the label\n",
    "                                                    test_size=0.3,  #set aside 25% of the data as the test set\n",
    "                                                    random_state=7, #reproduce the results\n",
    "                                                    stratify=y      #preserve the distribution of the labels\n",
    "                                        ) \n",
    "df.head()"
   ]
  },
  {
   "cell_type": "code",
   "execution_count": 8,
   "id": "03cc6e70",
   "metadata": {},
   "outputs": [],
   "source": [
    "X_train = X_train.copy()\n",
    "X_test  = X_test.copy()"
   ]
  },
  {
   "cell_type": "code",
   "execution_count": 11,
   "id": "0a856cf8",
   "metadata": {},
   "outputs": [],
   "source": [
    "# #encode the categorical feature\n",
    "# encoder = OneHotEncoder(sparse=False, handle_unknown='ignore') #drop one of the encoded gender columns\n",
    "# encoder.fit(X_train[['class']])\n",
    "# #enc.categories_ #view the categories\n",
    "\n",
    "# X_train['class'] = encoder.transform(X_train[['class']])\n",
    " "
   ]
  },
  {
   "cell_type": "code",
   "execution_count": 1,
   "id": "c8f91480",
   "metadata": {},
   "outputs": [
    {
     "ename": "NameError",
     "evalue": "name 'StandardScaler' is not defined",
     "output_type": "error",
     "traceback": [
      "\u001b[0;31m---------------------------------------------------------------------------\u001b[0m",
      "\u001b[0;31mNameError\u001b[0m                                 Traceback (most recent call last)",
      "\u001b[0;32m/var/folders/hg/s6jhgrpn2rqf5f83w73p3mcm0000gn/T/ipykernel_41829/532382889.py\u001b[0m in \u001b[0;36m<module>\u001b[0;34m\u001b[0m\n\u001b[1;32m      1\u001b[0m \u001b[0;31m#normalize the numeric features\u001b[0m\u001b[0;34m\u001b[0m\u001b[0;34m\u001b[0m\u001b[0m\n\u001b[0;32m----> 2\u001b[0;31m \u001b[0mscaler\u001b[0m \u001b[0;34m=\u001b[0m \u001b[0mStandardScaler\u001b[0m\u001b[0;34m(\u001b[0m\u001b[0;34m)\u001b[0m\u001b[0;34m\u001b[0m\u001b[0;34m\u001b[0m\u001b[0m\n\u001b[0m\u001b[1;32m      3\u001b[0m \u001b[0mscaler\u001b[0m\u001b[0;34m.\u001b[0m\u001b[0mfit\u001b[0m\u001b[0;34m(\u001b[0m\u001b[0mX_train\u001b[0m\u001b[0;34m[\u001b[0m\u001b[0;34m[\u001b[0m\u001b[0;34m'sepal_length'\u001b[0m\u001b[0;34m,\u001b[0m \u001b[0;34m'sepal_width'\u001b[0m\u001b[0;34m,\u001b[0m \u001b[0;34m'petal_length'\u001b[0m\u001b[0;34m,\u001b[0m \u001b[0;34m'petal_width'\u001b[0m\u001b[0;34m]\u001b[0m\u001b[0;34m]\u001b[0m\u001b[0;34m)\u001b[0m\u001b[0;34m\u001b[0m\u001b[0;34m\u001b[0m\u001b[0m\n\u001b[1;32m      4\u001b[0m \u001b[0;34m\u001b[0m\u001b[0m\n\u001b[1;32m      5\u001b[0m \u001b[0mscaler\u001b[0m\u001b[0;34m.\u001b[0m\u001b[0mfit\u001b[0m\u001b[0;34m(\u001b[0m\u001b[0mX_train\u001b[0m\u001b[0;34m)\u001b[0m\u001b[0;34m\u001b[0m\u001b[0;34m\u001b[0m\u001b[0m\n",
      "\u001b[0;31mNameError\u001b[0m: name 'StandardScaler' is not defined"
     ]
    }
   ],
   "source": [
    "#normalize the numeric features\n",
    "scaler = StandardScaler()\n",
    "#scaler.fit(X_train[['sepal_length', 'sepal_width', 'petal_length', 'petal_width']])\n",
    "\n",
    "scaler.fit(X_train)\n",
    "\n",
    "\n",
    "# X_train[['sepal_length', 'sepal_width', 'petal_length', 'petal_width']] = scaler.transform(X_train[['sepal_length', 'sepal_width', 'petal_length', 'petal_width']]) \n",
    "X_train = scaler.transform(X_train) \n",
    "\n",
    "\n",
    "#scale the training data"
   ]
  },
  {
   "cell_type": "code",
   "execution_count": 18,
   "id": "ac1ec882",
   "metadata": {},
   "outputs": [
    {
     "data": {
      "text/plain": [
       "SVC()"
      ]
     },
     "execution_count": 18,
     "metadata": {},
     "output_type": "execute_result"
    }
   ],
   "source": [
    "#view the prepared data\n",
    "# X_train.head(10)\n",
    "\n",
    "#initialize the classifier\n",
    "\n",
    "svm = SVC() #the default kernel is rbf\n",
    "svm.fit(X_train, y_train) #fit the data"
   ]
  },
  {
   "cell_type": "code",
   "execution_count": 20,
   "id": "bfca931b",
   "metadata": {},
   "outputs": [
    {
     "name": "stdout",
     "output_type": "stream",
     "text": [
      "The predicted BMI is: [0 0 0 0 0 0 0 0 0 0 0 0 0 0 0 0 0 0 0 0 0 0 0 0 0 0 0 0 0 0 0 0 0 0 2 0 0\n",
      " 2 0 2 0 0 0 0 0]\n"
     ]
    }
   ],
   "source": [
    "#predict the labels for the test set\n",
    "y_pred   = svm.predict(X_test)\n",
    "\n",
    "print('The predicted BMI is: {}'.format(y_pred))"
   ]
  },
  {
   "cell_type": "code",
   "execution_count": 21,
   "id": "48874031",
   "metadata": {},
   "outputs": [
    {
     "name": "stdout",
     "output_type": "stream",
     "text": [
      "The accuracy of the model is: 0.26666666666666666\n"
     ]
    }
   ],
   "source": [
    "#evaluate the prediction accuracy\n",
    "print('The accuracy of the model is: {}'.format(svm.score(X_test, y_test)))"
   ]
  },
  {
   "cell_type": "code",
   "execution_count": 23,
   "id": "2db361e8",
   "metadata": {},
   "outputs": [
    {
     "name": "stdout",
     "output_type": "stream",
     "text": [
      "                 precision    recall  f1-score   support\n",
      "\n",
      "    Iris Setosa       0.29      0.80      0.42        15\n",
      " Iris Virginica       0.00      0.00      0.00        15\n",
      "Iris Versicolor       0.00      0.00      0.00        15\n",
      "\n",
      "       accuracy                           0.27        45\n",
      "      macro avg       0.10      0.27      0.14        45\n",
      "   weighted avg       0.10      0.27      0.14        45\n",
      "\n"
     ]
    },
    {
     "name": "stderr",
     "output_type": "stream",
     "text": [
      "/Users/ruimingli/opt/anaconda3/lib/python3.9/site-packages/sklearn/metrics/_classification.py:1248: UndefinedMetricWarning: Precision and F-score are ill-defined and being set to 0.0 in labels with no predicted samples. Use `zero_division` parameter to control this behavior.\n",
      "  _warn_prf(average, modifier, msg_start, len(result))\n",
      "/Users/ruimingli/opt/anaconda3/lib/python3.9/site-packages/sklearn/metrics/_classification.py:1248: UndefinedMetricWarning: Precision and F-score are ill-defined and being set to 0.0 in labels with no predicted samples. Use `zero_division` parameter to control this behavior.\n",
      "  _warn_prf(average, modifier, msg_start, len(result))\n",
      "/Users/ruimingli/opt/anaconda3/lib/python3.9/site-packages/sklearn/metrics/_classification.py:1248: UndefinedMetricWarning: Precision and F-score are ill-defined and being set to 0.0 in labels with no predicted samples. Use `zero_division` parameter to control this behavior.\n",
      "  _warn_prf(average, modifier, msg_start, len(result))\n"
     ]
    }
   ],
   "source": [
    "#get the classification report\n",
    "target_names = ['Iris Setosa', 'Iris Virginica', 'Iris Versicolor']\n",
    "print(classification_report(y_test, y_pred, target_names = target_names))"
   ]
  },
  {
   "cell_type": "code",
   "execution_count": 24,
   "id": "be283596",
   "metadata": {},
   "outputs": [
    {
     "name": "stdout",
     "output_type": "stream",
     "text": [
      "{'C': 1, 'gamma': 2}\n",
      "0.9523809523809523\n"
     ]
    }
   ],
   "source": [
    "#setup the parameter grid to try values of c ranging from 1 to 10, and values for gamma ranging from 1 to 5.\n",
    "params = {'C': np.arange(1, 10),\n",
    "         'gamma': np.arange(1, 5)}\n",
    "\n",
    "svm = SVC()\n",
    "\n",
    "#initialize Grid Search with Cross Validation\n",
    "svm_grid = GridSearchCV(estimator = svm, param_grid = params, cv=5)\n",
    "svm_grid.fit(X_train, y_train)\n",
    "\n",
    "print(svm_grid.best_params_) #print the best parameters\n",
    "print(svm_grid.best_score_)  #print the best score"
   ]
  },
  {
   "cell_type": "code",
   "execution_count": 25,
   "id": "01a3a317",
   "metadata": {},
   "outputs": [
    {
     "name": "stdout",
     "output_type": "stream",
     "text": [
      "{'C': 1, 'gamma': 2}\n",
      "0.9523809523809523\n"
     ]
    }
   ],
   "source": [
    "params = {'C': np.arange(1, 10),\n",
    "         'gamma': np.arange(1, 5)}\n",
    "\n",
    "svm = SVC()\n",
    "\n",
    "#initialize Grid Search with Cross Validation and return the training score\n",
    "svm_grid = GridSearchCV(estimator = svm, param_grid = params, cv=5, return_train_score = True) \n",
    "svm_grid.fit(X_train, y_train)\n",
    "\n",
    "print(svm_grid.best_params_)\n",
    "print(svm_grid.best_score_)"
   ]
  },
  {
   "cell_type": "code",
   "execution_count": 26,
   "id": "26885f21",
   "metadata": {},
   "outputs": [
    {
     "data": {
      "text/html": [
       "<div>\n",
       "<style scoped>\n",
       "    .dataframe tbody tr th:only-of-type {\n",
       "        vertical-align: middle;\n",
       "    }\n",
       "\n",
       "    .dataframe tbody tr th {\n",
       "        vertical-align: top;\n",
       "    }\n",
       "\n",
       "    .dataframe thead th {\n",
       "        text-align: right;\n",
       "    }\n",
       "</style>\n",
       "<table border=\"1\" class=\"dataframe\">\n",
       "  <thead>\n",
       "    <tr style=\"text-align: right;\">\n",
       "      <th></th>\n",
       "      <th>mean_train_score</th>\n",
       "      <th>std_train_score</th>\n",
       "      <th>mean_test_score</th>\n",
       "      <th>std_test_score</th>\n",
       "    </tr>\n",
       "  </thead>\n",
       "  <tbody>\n",
       "    <tr>\n",
       "      <th>4</th>\n",
       "      <td>0.995238</td>\n",
       "      <td>0.005832</td>\n",
       "      <td>0.952381</td>\n",
       "      <td>0.030117</td>\n",
       "    </tr>\n",
       "    <tr>\n",
       "      <th>1</th>\n",
       "      <td>0.992857</td>\n",
       "      <td>0.005832</td>\n",
       "      <td>0.952381</td>\n",
       "      <td>0.030117</td>\n",
       "    </tr>\n",
       "    <tr>\n",
       "      <th>0</th>\n",
       "      <td>0.985714</td>\n",
       "      <td>0.008909</td>\n",
       "      <td>0.942857</td>\n",
       "      <td>0.035635</td>\n",
       "    </tr>\n",
       "    <tr>\n",
       "      <th>2</th>\n",
       "      <td>1.000000</td>\n",
       "      <td>0.000000</td>\n",
       "      <td>0.942857</td>\n",
       "      <td>0.035635</td>\n",
       "    </tr>\n",
       "    <tr>\n",
       "      <th>5</th>\n",
       "      <td>1.000000</td>\n",
       "      <td>0.000000</td>\n",
       "      <td>0.942857</td>\n",
       "      <td>0.035635</td>\n",
       "    </tr>\n",
       "  </tbody>\n",
       "</table>\n",
       "</div>"
      ],
      "text/plain": [
       "   mean_train_score  std_train_score  mean_test_score  std_test_score\n",
       "4          0.995238         0.005832         0.952381        0.030117\n",
       "1          0.992857         0.005832         0.952381        0.030117\n",
       "0          0.985714         0.008909         0.942857        0.035635\n",
       "2          1.000000         0.000000         0.942857        0.035635\n",
       "5          1.000000         0.000000         0.942857        0.035635"
      ]
     },
     "execution_count": 26,
     "metadata": {},
     "output_type": "execute_result"
    }
   ],
   "source": [
    "#display the cv results for the train and test set\n",
    "cv_results = pd.DataFrame(svm_grid.cv_results_)\n",
    "cv_results = cv_results.sort_values('mean_test_score', ascending=False)\n",
    "cv_results[['mean_train_score', 'std_train_score', 'mean_test_score', 'std_test_score']].head()"
   ]
  },
  {
   "cell_type": "code",
   "execution_count": null,
   "id": "875c99aa",
   "metadata": {},
   "outputs": [],
   "source": [
    "# the highest mean_train_score is 1.0 and mean_test_score is 0.952381. \n",
    "# The SVC does not appear to overfit or underfit the data. This demonstrates low bias and low variance.\n",
    "\n"
   ]
  }
 ],
 "metadata": {
  "kernelspec": {
   "display_name": "Python 3 (ipykernel)",
   "language": "python",
   "name": "python3"
  },
  "language_info": {
   "codemirror_mode": {
    "name": "ipython",
    "version": 3
   },
   "file_extension": ".py",
   "mimetype": "text/x-python",
   "name": "python",
   "nbconvert_exporter": "python",
   "pygments_lexer": "ipython3",
   "version": "3.9.7"
  }
 },
 "nbformat": 4,
 "nbformat_minor": 5
}
