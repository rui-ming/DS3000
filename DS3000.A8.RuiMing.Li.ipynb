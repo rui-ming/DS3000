{
 "cells": [
  {
   "cell_type": "code",
   "execution_count": 34,
   "id": "65d7e101",
   "metadata": {},
   "outputs": [],
   "source": [
    "# RuiMing Li \n",
    "# Assignment 8 "
   ]
  },
  {
   "cell_type": "code",
   "execution_count": 70,
   "id": "81a69103",
   "metadata": {},
   "outputs": [
    {
     "data": {
      "text/html": [
       "<div>\n",
       "<style scoped>\n",
       "    .dataframe tbody tr th:only-of-type {\n",
       "        vertical-align: middle;\n",
       "    }\n",
       "\n",
       "    .dataframe tbody tr th {\n",
       "        vertical-align: top;\n",
       "    }\n",
       "\n",
       "    .dataframe thead th {\n",
       "        text-align: right;\n",
       "    }\n",
       "</style>\n",
       "<table border=\"1\" class=\"dataframe\">\n",
       "  <thead>\n",
       "    <tr style=\"text-align: right;\">\n",
       "      <th></th>\n",
       "      <th>LOCATION</th>\n",
       "      <th>INDICATOR</th>\n",
       "      <th>SUBJECT</th>\n",
       "      <th>MEASURE</th>\n",
       "      <th>FREQUENCY</th>\n",
       "      <th>TIME</th>\n",
       "      <th>Value</th>\n",
       "      <th>Flag Codes</th>\n",
       "    </tr>\n",
       "  </thead>\n",
       "  <tbody>\n",
       "    <tr>\n",
       "      <th>0</th>\n",
       "      <td>AUS</td>\n",
       "      <td>MEATCONSUMP</td>\n",
       "      <td>BEEF</td>\n",
       "      <td>KG_CAP</td>\n",
       "      <td>A</td>\n",
       "      <td>1990</td>\n",
       "      <td>0.000</td>\n",
       "      <td>NaN</td>\n",
       "    </tr>\n",
       "    <tr>\n",
       "      <th>1</th>\n",
       "      <td>AUS</td>\n",
       "      <td>MEATCONSUMP</td>\n",
       "      <td>BEEF</td>\n",
       "      <td>KG_CAP</td>\n",
       "      <td>A</td>\n",
       "      <td>1991</td>\n",
       "      <td>27.942</td>\n",
       "      <td>NaN</td>\n",
       "    </tr>\n",
       "    <tr>\n",
       "      <th>2</th>\n",
       "      <td>AUS</td>\n",
       "      <td>MEATCONSUMP</td>\n",
       "      <td>BEEF</td>\n",
       "      <td>KG_CAP</td>\n",
       "      <td>A</td>\n",
       "      <td>1992</td>\n",
       "      <td>26.405</td>\n",
       "      <td>NaN</td>\n",
       "    </tr>\n",
       "    <tr>\n",
       "      <th>3</th>\n",
       "      <td>AUS</td>\n",
       "      <td>MEATCONSUMP</td>\n",
       "      <td>BEEF</td>\n",
       "      <td>KG_CAP</td>\n",
       "      <td>A</td>\n",
       "      <td>1993</td>\n",
       "      <td>26.370</td>\n",
       "      <td>NaN</td>\n",
       "    </tr>\n",
       "    <tr>\n",
       "      <th>4</th>\n",
       "      <td>AUS</td>\n",
       "      <td>MEATCONSUMP</td>\n",
       "      <td>BEEF</td>\n",
       "      <td>KG_CAP</td>\n",
       "      <td>A</td>\n",
       "      <td>1994</td>\n",
       "      <td>25.662</td>\n",
       "      <td>NaN</td>\n",
       "    </tr>\n",
       "  </tbody>\n",
       "</table>\n",
       "</div>"
      ],
      "text/plain": [
       "  LOCATION    INDICATOR SUBJECT MEASURE FREQUENCY  TIME   Value  Flag Codes\n",
       "0      AUS  MEATCONSUMP    BEEF  KG_CAP         A  1990   0.000         NaN\n",
       "1      AUS  MEATCONSUMP    BEEF  KG_CAP         A  1991  27.942         NaN\n",
       "2      AUS  MEATCONSUMP    BEEF  KG_CAP         A  1992  26.405         NaN\n",
       "3      AUS  MEATCONSUMP    BEEF  KG_CAP         A  1993  26.370         NaN\n",
       "4      AUS  MEATCONSUMP    BEEF  KG_CAP         A  1994  25.662         NaN"
      ]
     },
     "execution_count": 70,
     "metadata": {},
     "output_type": "execute_result"
    }
   ],
   "source": [
    "#import the libraries\n",
    "import pandas as pd\n",
    "import numpy as np\n",
    "import matplotlib.pyplot as plt\n",
    "import seaborn as sns\n",
    "from statsmodels.formula.api import ols\n",
    "from sklearn.linear_model import LinearRegression\n",
    "\n",
    "df = pd.read_csv('DP_LIVE_14032022012743133.csv')\n",
    "df.head()"
   ]
  },
  {
   "cell_type": "code",
   "execution_count": 74,
   "id": "aa328517",
   "metadata": {},
   "outputs": [
    {
     "data": {
      "text/plain": [
       "Text(0.5, 0, 'Year')"
      ]
     },
     "execution_count": 74,
     "metadata": {},
     "output_type": "execute_result"
    },
    {
     "data": {
      "image/png": "[encoded data removed]",
      "text/plain": [
       "<Figure size 432x288 with 1 Axes>"
      ]
     },
     "metadata": {
      "needs_background": "light"
     },
     "output_type": "display_data"
    }
   ],
   "source": [
    "# Question 2 \n",
    "# beef from aus\n",
    "aus_meat = df\n",
    "aus_meat = aus_meat.drop(aus_meat[(aus_meat['LOCATION'] != 'AUS')].index)\n",
    "aus_meat = aus_meat.drop(aus_meat[(aus_meat['MEASURE'] != 'KG_CAP')].index)\n",
    "aus_meat = aus_meat.drop(aus_meat[(aus_meat['SUBJECT'] != 'BEEF')].index)\n",
    "# print(aus_meat)\n",
    "\n",
    "aus_meat.plot(x='TIME', y='Value')\n",
    "plt.title('Beef Consumption in Australia')\n",
    "plt.ylabel(\"KG_CAP\")\n",
    "plt.xlabel(\"Year\")\n",
    "\n",
    "# The beef consumption has a spike during the 1990s and has decreased ever since. "
   ]
  },
  {
   "cell_type": "code",
   "execution_count": 86,
   "id": "a8a67360",
   "metadata": {},
   "outputs": [
    {
     "data": {
      "text/plain": [
       "Text(0.5, 0, 'Year')"
      ]
     },
     "execution_count": 86,
     "metadata": {},
     "output_type": "execute_result"
    },
    {
     "data": {
      "text/plain": [
       "<Figure size 432x288 with 0 Axes>"
      ]
     },
     "metadata": {},
     "output_type": "display_data"
    },
    {
     "data": {
      "image/png": "[encoded data removed]",
      "text/plain": [
       "<Figure size 432x288 with 1 Axes>"
      ]
     },
     "metadata": {
      "needs_background": "light"
     },
     "output_type": "display_data"
    }
   ],
   "source": [
    "\n",
    "# pig from canada\n",
    "can_meat = df\n",
    "can_meat = can_meat.drop(can_meat[(can_meat['LOCATION'] != 'CAN')].index)\n",
    "can_meat = can_meat.drop(can_meat[(can_meat['MEASURE'] != 'KG_CAP')].index)\n",
    "can_meat = can_meat.drop(can_meat[(can_meat['SUBJECT'] != 'PIG')].index)\n",
    "\n",
    "plt.figure(1)\n",
    "can_meat.plot(x='TIME', y='Value')\n",
    "plt.title('Pork Consumption in Canada')\n",
    "plt.ylabel(\"KG_CAP\")\n",
    "plt.xlabel(\"Year\")\n",
    "\n",
    "# The pork consumption has a spike high during the 2000s and has decreased ever since. "
   ]
  },
  {
   "cell_type": "code",
   "execution_count": 81,
   "id": "cc4548d2",
   "metadata": {},
   "outputs": [
    {
     "name": "stdout",
     "output_type": "stream",
     "text": [
      "      TIME     Value\n",
      "9640  1990   848.035\n",
      "9641  1991   995.553\n",
      "9642  1992  1071.894\n",
      "9643  1993  1261.100\n",
      "9644  1994  1369.909\n",
      "9645  1995  1515.516\n",
      "9646  1996  1505.322\n",
      "9647  1997  1750.495\n",
      "9648  1998  1931.271\n",
      "9649  1999  2080.252\n",
      "9650  2000  2229.966\n",
      "9651  2001  2351.655\n",
      "9652  2002  2516.807\n",
      "9653  2003  2686.007\n",
      "9654  2004  2783.345\n",
      "9655  2005  3029.620\n",
      "9656  2006  3112.794\n",
      "9657  2007  3167.940\n",
      "9658  2008  3261.932\n",
      "9659  2009  3314.587\n",
      "9660  2010  3421.165\n",
      "9661  2011  3532.197\n",
      "9662  2012  3612.905\n",
      "9663  2013  3690.316\n",
      "9664  2014  3801.833\n"
     ]
    }
   ],
   "source": [
    "# Question 3 \n",
    "# Extract the poultry consumption data, from 1994 to 2014 (inclusive), for Mexico, \n",
    "# that is measured in thousand tonnes of carcass weight**. Note: the filtered dataframe should only contain \n",
    "# the time and the values.\n",
    "\n",
    "# poultry from mexico\n",
    "poul_mexico = df\n",
    "poul_mexico = poul_mexico.drop(poul_mexico[(poul_mexico['LOCATION'] != 'MEX')].index)\n",
    "poul_mexico = poul_mexico.drop(poul_mexico[(poul_mexico['MEASURE'] != 'THND_TONNE')].index)\n",
    "poul_mexico = poul_mexico.drop(poul_mexico[(poul_mexico['SUBJECT'] != 'POULTRY')].index)\n",
    "poul_mexico = poul_mexico.drop(poul_mexico[(poul_mexico['TIME'] > 2014)].index)\n",
    "poul_mexico = poul_mexico[[\"TIME\", \"Value\"]]\n",
    "print(poul_mexico)\n",
    "    \n",
    "    "
   ]
  },
  {
   "cell_type": "code",
   "execution_count": 83,
   "id": "784f6f34",
   "metadata": {},
   "outputs": [
    {
     "data": {
      "text/html": [
       "<div>\n",
       "<style scoped>\n",
       "    .dataframe tbody tr th:only-of-type {\n",
       "        vertical-align: middle;\n",
       "    }\n",
       "\n",
       "    .dataframe tbody tr th {\n",
       "        vertical-align: top;\n",
       "    }\n",
       "\n",
       "    .dataframe thead th {\n",
       "        text-align: right;\n",
       "    }\n",
       "</style>\n",
       "<table border=\"1\" class=\"dataframe\">\n",
       "  <thead>\n",
       "    <tr style=\"text-align: right;\">\n",
       "      <th></th>\n",
       "      <th>TIME</th>\n",
       "      <th>Value</th>\n",
       "    </tr>\n",
       "  </thead>\n",
       "  <tbody>\n",
       "    <tr>\n",
       "      <th>count</th>\n",
       "      <td>25.000000</td>\n",
       "      <td>25.000000</td>\n",
       "    </tr>\n",
       "    <tr>\n",
       "      <th>mean</th>\n",
       "      <td>2002.000000</td>\n",
       "      <td>2433.696640</td>\n",
       "    </tr>\n",
       "    <tr>\n",
       "      <th>std</th>\n",
       "      <td>7.359801</td>\n",
       "      <td>948.120901</td>\n",
       "    </tr>\n",
       "    <tr>\n",
       "      <th>min</th>\n",
       "      <td>1990.000000</td>\n",
       "      <td>848.035000</td>\n",
       "    </tr>\n",
       "    <tr>\n",
       "      <th>25%</th>\n",
       "      <td>1996.000000</td>\n",
       "      <td>1515.516000</td>\n",
       "    </tr>\n",
       "    <tr>\n",
       "      <th>50%</th>\n",
       "      <td>2002.000000</td>\n",
       "      <td>2516.807000</td>\n",
       "    </tr>\n",
       "    <tr>\n",
       "      <th>75%</th>\n",
       "      <td>2008.000000</td>\n",
       "      <td>3261.932000</td>\n",
       "    </tr>\n",
       "    <tr>\n",
       "      <th>max</th>\n",
       "      <td>2014.000000</td>\n",
       "      <td>3801.833000</td>\n",
       "    </tr>\n",
       "  </tbody>\n",
       "</table>\n",
       "</div>"
      ],
      "text/plain": [
       "              TIME        Value\n",
       "count    25.000000    25.000000\n",
       "mean   2002.000000  2433.696640\n",
       "std       7.359801   948.120901\n",
       "min    1990.000000   848.035000\n",
       "25%    1996.000000  1515.516000\n",
       "50%    2002.000000  2516.807000\n",
       "75%    2008.000000  3261.932000\n",
       "max    2014.000000  3801.833000"
      ]
     },
     "execution_count": 83,
     "metadata": {},
     "output_type": "execute_result"
    }
   ],
   "source": [
    "# (5 pts) Summarize the extracted data using descriptive statistics. Explain the summary.\n",
    "poul_mexico.describe()\n",
    "# The descriptive statistics for time is irrelevant. The mean for the value column is 2433.7 thousand tonnes. \n",
    "# The standard deviation is 948.1. THe minimum and maximum is 848.0 and 3801.8. "
   ]
  },
  {
   "cell_type": "code",
   "execution_count": 88,
   "id": "02436253",
   "metadata": {},
   "outputs": [
    {
     "data": {
      "text/plain": [
       "Text(0.5, 0, 'Year')"
      ]
     },
     "execution_count": 88,
     "metadata": {},
     "output_type": "execute_result"
    },
    {
     "data": {
      "text/plain": [
       "<Figure size 432x288 with 0 Axes>"
      ]
     },
     "metadata": {},
     "output_type": "display_data"
    },
    {
     "data": {
      "image/png": "[encoded data removed]",
      "text/plain": [
       "<Figure size 432x288 with 1 Axes>"
      ]
     },
     "metadata": {
      "needs_background": "light"
     },
     "output_type": "display_data"
    }
   ],
   "source": [
    "#(10 pts) Visualize the extracted data, using a line chart, and comment on the trend.\n",
    "plt.figure(2)\n",
    "poul_mexico.plot(x='TIME', y='Value')\n",
    "plt.title('Poultry Consumption in Mexico')\n",
    "plt.ylabel(\"THND_TONNE\")\n",
    "plt.xlabel(\"Year\")\n",
    "\n",
    "# The poultry consumption in Mexico has been increasing since 1990. "
   ]
  },
  {
   "cell_type": "code",
   "execution_count": 101,
   "id": "eb77cec3",
   "metadata": {},
   "outputs": [
    {
     "data": {
      "image/png": "[encoded data removed]",
      "text/plain": [
       "<Figure size 432x288 with 1 Axes>"
      ]
     },
     "metadata": {
      "needs_background": "light"
     },
     "output_type": "display_data"
    },
    {
     "name": "stdout",
     "output_type": "stream",
     "text": [
      "4099.533519999997\n",
      "4227.674818461557\n"
     ]
    },
    {
     "data": {
      "text/plain": [
       "<AxesSubplot:>"
      ]
     },
     "execution_count": 101,
     "metadata": {},
     "output_type": "execute_result"
    },
    {
     "data": {
      "image/png": "[encoded data removed]",
      "text/plain": [
       "<Figure size 432x288 with 1 Axes>"
      ]
     },
     "metadata": {
      "needs_background": "light"
     },
     "output_type": "display_data"
    }
   ],
   "source": [
    "# (15 pts) Predict the poultry consumption for 2015 and 2016, using simple linear regression. E\n",
    "# nsure that you visualize the original data and also include the predictions from the model.\n",
    "\n",
    "#Lets visualize this data again and show the trend line\n",
    "sns.regplot(data=poul_mexico, x='TIME', y='Value') #display the trend line using regplot\n",
    "plt.show()\n",
    "\n",
    "X = poul_mexico['TIME'].to_numpy() #get the explanatory variable\n",
    "X = X.reshape(-1, 1)\n",
    "\n",
    "y = poul_mexico['Value'].to_numpy()  #get the response variable\n",
    "y = y.reshape(-1, 1)\n",
    "\n",
    "lr_model = LinearRegression(fit_intercept=True) #initialize the regression model\n",
    "lr_model = lr_model.fit(X, y)                   #fit the data to the model i.e. find the line of best fit\n",
    "\n",
    "\n",
    "#make a prediction\n",
    "predict2015 = np.array([2015]).reshape(-1, 1)\n",
    "predict2016 = np.array([2016]).reshape(-1, 1)\n",
    "\n",
    "y_2015 = lr_model.predict(predict2015)[0][0]\n",
    "y_2016 = lr_model.predict(predict2016)[0][0]\n",
    "\n",
    "print(y_2015) \n",
    "print(y_2016)\n",
    "\n",
    "sns.scatterplot(x=[2015], y=[y_2015], color='red')\n",
    "sns.scatterplot(x=[2016], y=[y_2016], color='red')\n",
    "\n",
    "# The predicted consumption for 2015 will be 4099.53 and the predicted consumption for 2016 will be 4227.67 thousand \n",
    "# tonnes. "
   ]
  },
  {
   "cell_type": "code",
   "execution_count": 100,
   "id": "4a9ff563",
   "metadata": {},
   "outputs": [
    {
     "name": "stdout",
     "output_type": "stream",
     "text": [
      "r-squared is:  0.98943\n"
     ]
    }
   ],
   "source": [
    "# (5 pts) Calculate the R-squared and explain what this tells you about the model.\n",
    "#get r-squared, i.e. the coefficient of determination\n",
    "r_sqrd = lr_model.score(X, y)\n",
    "r_sqrd = round(r_sqrd, 5)\n",
    "\n",
    "print('r-squared is: ', r_sqrd)\n",
    " # Since r-squared is close to 1, this indicates that the model fits the data perfectly. "
   ]
  },
  {
   "cell_type": "code",
   "execution_count": null,
   "id": "038c9c0f",
   "metadata": {},
   "outputs": [],
   "source": []
  }
 ],
 "metadata": {
  "kernelspec": {
   "display_name": "Python 3 (ipykernel)",
   "language": "python",
   "name": "python3"
  },
  "language_info": {
   "codemirror_mode": {
    "name": "ipython",
    "version": 3
   },
   "file_extension": ".py",
   "mimetype": "text/x-python",
   "name": "python",
   "nbconvert_exporter": "python",
   "pygments_lexer": "ipython3",
   "version": "3.9.7"
  }
 },
 "nbformat": 4,
 "nbformat_minor": 5
}
