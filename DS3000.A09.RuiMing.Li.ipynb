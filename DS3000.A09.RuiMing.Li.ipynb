{
 "cells": [
  {
   "cell_type": "markdown",
   "metadata": {},
   "source": [
    "# Module 09: *k*-Nearest Neighbors\n",
    "\n",
    "## Overview\n",
    "The k-Nearest neighbor method is a type of instance based learning that uses existing data, with known labels, to predict the label for a new observation. The purpose of this exercise is to demonstrate the use of k-NN for classification using the [iris dataset](https://en.wikipedia.org/wiki/Iris_flower_data_set). \n",
    "\n",
    "\n",
    "## Instructions\n",
    "\n",
    "#### Use the notebook: `k-NN.ipynb` to perform the following :\n",
    "Question 1. Perform the k-nn analysis using different values of k. Recommend which value is more appropriate and justify your response.\n",
    "\n",
    "Question 2. Evaluate the prediction accuracy, using the best value of k.\n"
   ]
  },
  {
   "cell_type": "code",
   "execution_count": 6,
   "metadata": {},
   "outputs": [],
   "source": [
    "import pandas as pd\n",
    "import matplotlib.pyplot as plt\n",
    "import seaborn as sns\n",
    "sns.set() \n",
    "from sklearn.datasets import load_iris\n",
    "from sklearn.metrics import accuracy_score, classification_report\n",
    "from sklearn.model_selection import train_test_split\n",
    "from sklearn.neighbors import KNeighborsClassifier"
   ]
  },
  {
   "cell_type": "code",
   "execution_count": 7,
   "metadata": {},
   "outputs": [],
   "source": [
    "#load the data from sklearn.datasets\n",
    "data     = load_iris()\n",
    "\n",
    "#divide the data into the input 'X' and the labels 'y'\n",
    "X        = data['data'] #the observations\n",
    "y        = data['target'] #the label"
   ]
  },
  {
   "cell_type": "code",
   "execution_count": 8,
   "metadata": {},
   "outputs": [],
   "source": [
    "#load the data in a pandas dataframe\n",
    "df          = pd.DataFrame(X, columns=['sepal length', 'sepal width', 'petal length', 'petal width'])\n",
    "df['class'] = [data['target_names'][idx] for idx in y]\n",
    "\n",
    "\n",
    "#Visualize the pairwise relationships between the features\n",
    "#Note: seaborn has a pairplot which is useful.\n"
   ]
  },
  {
   "cell_type": "markdown",
   "metadata": {},
   "source": [
    "## Question 1: Choose *K*\n",
    "\n",
    "Using the cell below, build a model to predict the target in the iris dataset using the k-NN algorithm. The program should try at least 10 different values of k and evaluate the accuracy of the predictions. After which, display a line graph showing the accuracy for each value of k. Evaluate the results from the graph and recommend the best value of *k*."
   ]
  },
  {
   "cell_type": "code",
   "execution_count": null,
   "metadata": {},
   "outputs": [],
   "source": []
  },
  {
   "cell_type": "code",
   "execution_count": 9,
   "metadata": {},
   "outputs": [],
   "source": [
    "#split the data into training and test sets\n",
    "X_train, X_test, y_train, y_test = train_test_split( \n",
    "                                        #TODO: enter the appropriate values to partition the data, \n",
    "                                        #and ensure your results are reproducible\n",
    "                                        #and obtain stratified samples\n",
    "                                                    X,              #the input features\n",
    "                                                    y,              #the label\n",
    "                                                    test_size=0.25,  #set aside 25% of the data as the test set\n",
    "                                                    random_state=7, #reproduce the results\n",
    "                                                    stratify=y      #preserve the distribution of the labels\n",
    "                                        ) \n",
    "\n",
    "#build the k-nn model, experiment with different values of k and plot the results\n",
    "\n",
    "#identify a suitable value of k\n",
    "predictions = {}\n",
    "\n",
    "for k in range(3, 50, 2): #increment k by 2\n",
    "    knn = KNeighborsClassifier(n_neighbors = k) #initialize the classifier and set the number of neighbors\n",
    "    knn.fit(X_train, y_train)\n",
    "    predictions[k] = knn.score(X_test, y_test)"
   ]
  },
  {
   "cell_type": "code",
   "execution_count": 12,
   "metadata": {},
   "outputs": [
    {
     "data": {
      "image/png": "[encoded data removed]",
      "text/plain": [
       "<Figure size 432x288 with 1 Axes>"
      ]
     },
     "metadata": {},
     "output_type": "display_data"
    }
   ],
   "source": [
    "sns.lineplot(x=predictions.keys(), y=predictions.values())\n",
    "plt.title('k vs. Accuracy')\n",
    "plt.ylabel(\"Accuracy\")\n",
    "plt.xlabel(\"k\")\n",
    "plt.show()"
   ]
  },
  {
   "cell_type": "code",
   "execution_count": 11,
   "metadata": {},
   "outputs": [],
   "source": [
    "# **Summary:** As the value of k increased the overall accuracy of the model decreased.\n",
    "# It began with a solid 97% for the first 33 but then \n",
    "# When k was 33 or 35, the model produced the highest accuracy on the test set at `100%`. \n",
    "# It then dipped down to the less than 90% as k kept increasing so I would recommend k to be either a number from \n",
    "# 33 to 35. \n",
    "\n"
   ]
  },
  {
   "cell_type": "markdown",
   "metadata": {},
   "source": [
    "## Question 2: Evaluate the Results\n",
    "Display the classification report for the knn model thats based on your recommended value of k. Evaluate the report and explain the results. "
   ]
  },
  {
   "cell_type": "code",
   "execution_count": 16,
   "metadata": {},
   "outputs": [
    {
     "name": "stdout",
     "output_type": "stream",
     "text": [
      "                 precision    recall  f1-score   support\n",
      "\n",
      "    Iris Setosa       1.00      1.00      1.00        13\n",
      " Iris Virginica       1.00      1.00      1.00        13\n",
      "Iris Versicolor       1.00      1.00      1.00        12\n",
      "\n",
      "       accuracy                           1.00        38\n",
      "      macro avg       1.00      1.00      1.00        38\n",
      "   weighted avg       1.00      1.00      1.00        38\n",
      "\n"
     ]
    }
   ],
   "source": [
    "#get the classification report for the best value of k\n",
    "knn_34 = KNeighborsClassifier(n_neighbors = 35) #initialize the classifier and set the number of neighbors\n",
    "knn_34.fit(X_train, y_train)\n",
    "y_pred = knn_34.predict(X_test)\n",
    "\n",
    "target_names = ['Iris Setosa', 'Iris Virginica', 'Iris Versicolor']\n",
    "print(classification_report(y_test, y_pred, target_names = target_names))"
   ]
  },
  {
   "cell_type": "code",
   "execution_count": 17,
   "metadata": {},
   "outputs": [],
   "source": [
    "# With a value of 35 for k, the classification reports shows an accuracy of 100%. "
   ]
  },
  {
   "cell_type": "code",
   "execution_count": null,
   "metadata": {},
   "outputs": [],
   "source": []
  }
 ],
 "metadata": {
  "kernelspec": {
   "display_name": "Python 3 (ipykernel)",
   "language": "python",
   "name": "python3"
  },
  "language_info": {
   "codemirror_mode": {
    "name": "ipython",
    "version": 3
   },
   "file_extension": ".py",
   "mimetype": "text/x-python",
   "name": "python",
   "nbconvert_exporter": "python",
   "pygments_lexer": "ipython3",
   "version": "3.9.7"
  }
 },
 "nbformat": 4,
 "nbformat_minor": 2
}
